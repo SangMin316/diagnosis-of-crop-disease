{
  "cells": [
    {
      "cell_type": "markdown",
      "metadata": {
        "id": "view-in-github",
        "colab_type": "text"
      },
      "source": [
        "<a href=\"https://colab.research.google.com/github/SangMin316/diagnosis-of-crop-disease/blob/main/efficientnet_b0%2B_LSTM.ipynb\" target=\"_parent\"><img src=\"https://colab.research.google.com/assets/colab-badge.svg\" alt=\"Open In Colab\"/></a>"
      ]
    },
    {
      "cell_type": "code",
      "execution_count": null,
      "metadata": {
        "id": "NSxF9E696jCt"
      },
      "outputs": [],
      "source": [
        "import os\n",
        "os.environ[\"CUDA_VISIBLE_DEVICES\"]=\"0\" # 첫번째 gpu 쓰겠다."
      ]
    },
    {
      "cell_type": "markdown",
      "source": [
        "### Data Load"
      ],
      "metadata": {
        "id": "fQODbArksgRL"
      }
    },
    {
      "cell_type": "code",
      "execution_count": null,
      "metadata": {
        "colab": {
          "base_uri": "https://localhost:8080/"
        },
        "id": "sH5z0KDRNtAt",
        "outputId": "edfd7624-7db2-43db-89a9-bae16f4b947d"
      },
      "outputs": [
        {
          "name": "stdout",
          "output_type": "stream",
          "text": [
            "Collecting gdrive_dataset\n",
            "  Downloading gdrive_dataset-0.0.5-py3-none-any.whl (2.1 kB)\n",
            "Requirement already satisfied: googledrivedownloader in /usr/local/lib/python3.7/dist-packages (from gdrive_dataset) (0.4)\n",
            "Installing collected packages: gdrive-dataset\n",
            "Successfully installed gdrive-dataset-0.0.5\n"
          ]
        }
      ],
      "source": [
        "!pip install gdrive_dataset"
      ]
    },
    {
      "cell_type": "code",
      "execution_count": null,
      "metadata": {
        "id": "31kaWkbpNwK_"
      },
      "outputs": [],
      "source": [
        "# https://drive.google.com/file/d/1DOYRWtzDlynJ0VJqDtdluzHXBzkJLZgE/view\n",
        "# 위 주소가 데이터 다운받는 주소임, d/~~~/view. ~~가 file_id임\n",
        "from gdrivedataset import loader\n",
        "\n",
        "file_id = '1DOYRWtzDlynJ0VJqDtdluzHXBzkJLZgE'\n",
        "loader.load_from_google_drive(file_id)"
      ]
    },
    {
      "cell_type": "code",
      "execution_count": null,
      "metadata": {
        "colab": {
          "base_uri": "https://localhost:8080/"
        },
        "id": "6kB-GgiTc-BB",
        "outputId": "54d625ad-6d77-4a5d-9d45-ce15d5d129a7"
      },
      "outputs": [
        {
          "name": "stdout",
          "output_type": "stream",
          "text": [
            "Archive:  dataset.zip\n",
            "  End-of-central-directory signature not found.  Either this file is not\n",
            "  a zipfile, or it constitutes one disk of a multi-part archive.  In the\n",
            "  latter case the central directory and zipfile comment will be found on\n",
            "  the last disk(s) of this archive.\n",
            "unzip:  cannot find zipfile directory in one of dataset.zip or\n",
            "        dataset.zip.zip, and cannot find dataset.zip.ZIP, period.\n"
          ]
        }
      ],
      "source": [
        "!unzip dataset.zip"
      ]
    },
    {
      "cell_type": "code",
      "execution_count": null,
      "metadata": {
        "colab": {
          "base_uri": "https://localhost:8080/"
        },
        "id": "e8v7MsueNz9e",
        "outputId": "f74bf645-2947-410a-b468-04ae6774814d"
      },
      "outputs": [
        {
          "name": "stdout",
          "output_type": "stream",
          "text": [
            "unzip:  cannot find or open data/train.zip, data/train.zip.zip or data/train.zip.ZIP.\n"
          ]
        }
      ],
      "source": [
        "!unzip data/train.zip -d data/"
      ]
    },
    {
      "cell_type": "code",
      "execution_count": null,
      "metadata": {
        "id": "wfhxLH-zN26b"
      },
      "outputs": [],
      "source": [
        "!unzip data/test.zip -d data/"
      ]
    },
    {
      "cell_type": "code",
      "execution_count": null,
      "metadata": {
        "colab": {
          "base_uri": "https://localhost:8080/"
        },
        "id": "32lsftiBdIea",
        "outputId": "f509e9a4-2f2f-4df7-c79b-e11b32f53733"
      },
      "outputs": [
        {
          "name": "stdout",
          "output_type": "stream",
          "text": [
            "Mounted at /content/drive\n"
          ]
        }
      ],
      "source": [
        "from google.colab import drive\n",
        "drive.mount('/content/drive')"
      ]
    },
    {
      "cell_type": "markdown",
      "metadata": {
        "id": "G39NSDmC6jCv"
      },
      "source": [
        "# Library Import"
      ]
    },
    {
      "cell_type": "code",
      "execution_count": null,
      "metadata": {
        "id": "kDF9npUl6jCx"
      },
      "outputs": [],
      "source": [
        "import numpy as np\n",
        "import pandas as pd\n",
        "import matplotlib.pyplot as plt\n",
        "import cv2\n",
        "from tqdm import tqdm\n",
        "from glob import glob\n",
        "import os\n",
        "import json \n",
        "import torch\n",
        "from torch import nn\n",
        "from torchvision import models\n",
        "from torch.utils.data import Dataset\n",
        "from sklearn.metrics import f1_score\n",
        "from sklearn.model_selection import train_test_split"
      ]
    },
    {
      "cell_type": "code",
      "execution_count": null,
      "metadata": {
        "id": "cTqA6eGtEzLK"
      },
      "outputs": [],
      "source": [
        "sample = glob('/content/drive/MyDrive/dacon/data/train/*')[42]\n",
        "\n",
        "sample_csv = pd.read_csv(glob(sample+'/*.csv')[0])\n",
        "sample_csv"
      ]
    },
    {
      "cell_type": "code",
      "execution_count": null,
      "metadata": {
        "colab": {
          "background_save": true
        },
        "id": "WwH3zpQuUmhe"
      },
      "outputs": [],
      "source": [
        "csv_files = sorted(glob('/content/drive/MyDrive/dacon/data/train/*/*.csv'))#csv 파일들을 list로 받는다."
      ]
    },
    {
      "cell_type": "code",
      "execution_count": null,
      "metadata": {
        "colab": {
          "base_uri": "https://localhost:8080/"
        },
        "id": "yJdTIzF4iKyX",
        "outputId": "c210a9c5-1241-493b-b951-d7abe27a7a05"
      },
      "outputs": [
        {
          "name": "stderr",
          "output_type": "stream",
          "text": [
            "100%|██████████| 19/19 [00:00<00:00, 117.80it/s]"
          ]
        },
        {
          "name": "stdout",
          "output_type": "stream",
          "text": [
            "0      400.8\n",
            "1      406.6\n",
            "2      419.0\n",
            "3      412.1\n",
            "4      408.4\n",
            "       ...  \n",
            "289    433.9\n",
            "290    439.0\n",
            "291    442.5\n",
            "292    443.1\n",
            "293    465.1\n",
            "Name: 내부 CO2 평균, Length: 294, dtype: float64\n",
            "0      382.3\n",
            "1      380.9\n",
            "2      381.1\n",
            "3      383.2\n",
            "4      383.0\n",
            "       ...  \n",
            "289    378.5\n",
            "290    377.2\n",
            "291    378.9\n",
            "292    377.4\n",
            "293    377.9\n",
            "Name: 내부 CO2 평균, Length: 294, dtype: float64\n",
            "0      387.4\n",
            "1      385.7\n",
            "2      383.3\n",
            "3      386.7\n",
            "4      386.4\n",
            "       ...  \n",
            "289    382.5\n",
            "290    384.3\n",
            "291    383.7\n",
            "292    382.3\n",
            "293    384.0\n",
            "Name: 내부 CO2 평균, Length: 294, dtype: float64\n",
            "0      380.4\n",
            "1      379.5\n",
            "2      380.6\n",
            "3      380.6\n",
            "4      380.2\n",
            "       ...  \n",
            "289    379.5\n",
            "290    377.6\n",
            "291    378.0\n",
            "292    378.4\n",
            "293    376.4\n",
            "Name: 내부 CO2 평균, Length: 294, dtype: float64\n",
            "0          -\n",
            "1      492.2\n",
            "2          -\n",
            "3      507.2\n",
            "4          -\n",
            "       ...  \n",
            "583    483.8\n",
            "584        -\n",
            "585    490.5\n",
            "586        -\n",
            "587    495.2\n",
            "Name: 내부 CO2 평균, Length: 588, dtype: object\n",
            "0          -\n",
            "1      529.4\n",
            "2          -\n",
            "3      540.3\n",
            "4          -\n",
            "       ...  \n",
            "583    485.4\n",
            "584        -\n",
            "585    488.7\n",
            "586        -\n",
            "587    493.9\n",
            "Name: 내부 CO2 평균, Length: 588, dtype: object\n",
            "0      388.6\n",
            "1      387.4\n",
            "2      385.7\n",
            "3      383.3\n",
            "4      386.7\n",
            "       ...  \n",
            "289    383.9\n",
            "290    382.5\n",
            "291    384.3\n",
            "292    383.7\n",
            "293    382.3\n",
            "Name: 내부 CO2 평균, Length: 294, dtype: float64\n",
            "0      -\n",
            "1      -\n",
            "2      -\n",
            "3      -\n",
            "4      -\n",
            "      ..\n",
            "134    -\n",
            "135    -\n",
            "136    -\n",
            "137    -\n",
            "138    -\n",
            "Name: 내부 CO2 평균, Length: 139, dtype: object\n",
            "0      389.2\n",
            "1      392.2\n",
            "2      394.9\n",
            "3      396.6\n",
            "4      401.7\n",
            "       ...  \n",
            "289    387.9\n",
            "290    389.0\n",
            "291    389.1\n",
            "292    390.4\n",
            "293    386.9\n",
            "Name: 내부 CO2 평균, Length: 294, dtype: float64\n",
            "0      437.1\n",
            "1      435.8\n",
            "2      433.9\n",
            "3      436.6\n",
            "4      445.8\n",
            "       ...  \n",
            "289    431.5\n",
            "290    434.9\n",
            "291    438.5\n",
            "292    438.0\n",
            "293    441.0\n",
            "Name: 내부 CO2 평균, Length: 294, dtype: float64\n",
            "0      -\n",
            "1      -\n",
            "2      -\n",
            "3      -\n",
            "4      -\n",
            "      ..\n",
            "281    -\n",
            "282    -\n",
            "283    -\n",
            "284    -\n",
            "285    -\n",
            "Name: 내부 CO2 평균, Length: 286, dtype: object\n",
            "0      444.0\n",
            "1      444.3\n",
            "2      442.6\n",
            "3      449.4\n",
            "4      452.9\n",
            "       ...  \n",
            "289    439.7\n",
            "290    438.1\n",
            "291    438.5\n",
            "292    440.5\n",
            "293    444.9\n",
            "Name: 내부 CO2 평균, Length: 294, dtype: float64\n",
            "0      453.2\n",
            "1      445.8\n",
            "2      458.2\n",
            "3      485.1\n",
            "4      506.0\n",
            "       ...  \n",
            "289    515.4\n",
            "290    534.6\n",
            "291    542.0\n",
            "292    539.7\n",
            "293    542.3\n",
            "Name: 내부 CO2 평균, Length: 294, dtype: float64\n",
            "0          -\n",
            "1      507.2\n",
            "2          -\n",
            "3      515.1\n",
            "4          -\n",
            "       ...  \n",
            "583    490.5\n",
            "584        -\n",
            "585    495.2\n",
            "586        -\n",
            "587    501.8\n",
            "Name: 내부 CO2 평균, Length: 588, dtype: object\n",
            "0      394.6\n",
            "1      392.0\n",
            "2      388.4\n",
            "3      384.4\n",
            "4      385.4\n",
            "       ...  \n",
            "240    398.4\n",
            "241    398.3\n",
            "242    399.4\n",
            "243    401.9\n",
            "244    401.8\n",
            "Name: 내부 CO2 평균, Length: 245, dtype: float64\n",
            "0      408.6\n",
            "1      410.4\n",
            "2      406.5\n",
            "3      403.5\n",
            "4      405.8\n",
            "       ...  \n",
            "289    402.4\n",
            "290    404.9\n",
            "291    405.4\n",
            "292    403.9\n",
            "293    402.4\n",
            "Name: 내부 CO2 평균, Length: 294, dtype: float64\n",
            "0      380.4\n",
            "1      379.5\n",
            "2      380.6\n",
            "3      380.6\n",
            "4      380.2\n",
            "       ...  \n",
            "289    379.5\n",
            "290    377.6\n",
            "291    378.0\n",
            "292    378.4\n",
            "293    376.4\n",
            "Name: 내부 CO2 평균, Length: 294, dtype: float64\n",
            "0      432.2\n",
            "1      431.9\n",
            "2      433.5\n",
            "3      433.2\n",
            "4      434.9\n",
            "       ...  \n",
            "289    423.4\n",
            "290    422.3\n",
            "291    420.1\n",
            "292    421.6\n",
            "293    420.5\n",
            "Name: 내부 CO2 평균, Length: 294, dtype: float64\n",
            "0      458.9\n",
            "1      453.2\n",
            "2      445.8\n",
            "3      458.2\n",
            "4      485.1\n",
            "       ...  \n",
            "289    490.3\n",
            "290    515.4\n",
            "291    534.6\n",
            "292    542.0\n",
            "293    539.7\n",
            "Name: 내부 CO2 평균, Length: 294, dtype: float64\n"
          ]
        },
        {
          "name": "stderr",
          "output_type": "stream",
          "text": [
            "\n"
          ]
        }
      ],
      "source": [
        "for csv in tqdm(csv_files[1:20]): # 위 과정을 전체 csv파일에 적용해준다.\n",
        "    temp_csv = pd.read_csv(csv)['내부 CO2 평균']\n",
        "    print(temp_csv)"
      ]
    },
    {
      "cell_type": "markdown",
      "metadata": {
        "id": "rZgs5bhdF1ZI"
      },
      "source": [
        "null값들이 들어간 column들이 존재,\n",
        "\n",
        "csv파일에 공통적으로 null값들이 존재하는 column보이기\n",
        "\n",
        "학습에 필요한 column들만 빠로 추출"
      ]
    },
    {
      "cell_type": "markdown",
      "metadata": {
        "id": "ARfkj4mO6jC1"
      },
      "source": [
        "# 데이터 로드\n",
        "\n",
        "## 환경 데이터 통계량 계산 for MinMax Scaling"
      ]
    },
    {
      "cell_type": "code",
      "execution_count": null,
      "metadata": {
        "colab": {
          "base_uri": "https://localhost:8080/"
        },
        "id": "hhx2NfYN6jC1",
        "outputId": "535d958e-2730-446c-ecbc-bf0dcbd3e036"
      },
      "outputs": [
        {
          "output_type": "stream",
          "name": "stderr",
          "text": [
            "100%|██████████| 5766/5766 [21:18<00:00,  4.51it/s]\n"
          ]
        },
        {
          "output_type": "execute_result",
          "data": {
            "text/plain": [
              "{'내부 습도 1 최고': [25.9, 100.0],\n",
              " '내부 습도 1 최저': [0.0, 100.0],\n",
              " '내부 습도 1 평균': [23.7, 100.0],\n",
              " '내부 온도 1 최고': [3.4, 47.6],\n",
              " '내부 온도 1 최저': [3.3, 47.0],\n",
              " '내부 온도 1 평균': [3.4, 47.3],\n",
              " '내부 이슬점 최고': [0.2, 34.7],\n",
              " '내부 이슬점 최저': [0.0, 34.4],\n",
              " '내부 이슬점 평균': [0.1, 34.5]}"
            ]
          },
          "metadata": {},
          "execution_count": 21
        }
      ],
      "source": [
        "# 분석에 사용할 feature 선택\n",
        "csv_features = ['내부 온도 1 평균', '내부 온도 1 최고', '내부 온도 1 최저', '내부 습도 1 평균', '내부 습도 1 최고', \n",
        "                '내부 습도 1 최저', '내부 이슬점 평균', '내부 이슬점 최고', '내부 이슬점 최저']\n",
        "\n",
        "temp_csv = pd.read_csv(csv_files[0])[csv_features] # list에 있는 첫번째 csv 파일의 csv_feature로 DataFrame을 만든다.\n",
        "max_arr, min_arr = temp_csv.max().to_numpy(), temp_csv.min().to_numpy() # 각 feature의 max값,min 값을 받는다.\n",
        "\n",
        "# feature 별 최대값, 최솟값 계산\n",
        "for csv in tqdm(csv_files[1:]): # 위 과정을 전체 csv파일에 적용해준다.\n",
        "    temp_csv = pd.read_csv(csv)[csv_features]\n",
        "    temp_csv = temp_csv.replace('-',np.nan).dropna() #'-'값 삭제\n",
        "    if len(temp_csv) == 0:\n",
        "        continue\n",
        "    temp_csv = temp_csv.astype(float)\n",
        "    temp_max, temp_min = temp_csv.max().to_numpy(), temp_csv.min().to_numpy()\n",
        "    max_arr = np.max([max_arr,temp_max], axis=0) # 기존에 구했던 max_arr과 새로 구한 temp_max중 큰 값을 max_arr로 설정\n",
        "    min_arr = np.min([min_arr,temp_min], axis=0) # 기존에 구했던 min_arr과 새로 구한 temp_min중 큰 값을 min_arr로 설정\n",
        "\n",
        "# feature 별 최대값, 최솟값 dictionary 생성\n",
        "# 나중에 min-max scaling 할때 사용할거임\n",
        "csv_feature_dict = {csv_features[i]:[min_arr[i], max_arr[i]] for i in range(len(csv_features))}\n",
        "csv_feature_dict"
      ]
    },
    {
      "cell_type": "markdown",
      "metadata": {
        "id": "JaaAh5D06jC1"
      },
      "source": [
        "## CustomDataset 제작"
      ]
    },
    {
      "cell_type": "code",
      "execution_count": null,
      "metadata": {
        "id": "HXl7EK6i6jC1"
      },
      "outputs": [],
      "source": [
        "# 변수 설명 csv 파일 참조\n",
        "crop = {'1':'딸기','2':'토마토','3':'파프리카','4':'오이','5':'고추','6':'시설포도'}\n",
        "disease = {'1':{'a1':'딸기잿빛곰팡이병','a2':'딸기흰가루병','b1':'냉해피해','b6':'다량원소결핍 (N)','b7':'다량원소결핍 (P)','b8':'다량원소결핍 (K)'},\n",
        "           '2':{'a5':'토마토흰가루병','a6':'토마토잿빛곰팡이병','b2':'열과','b3':'칼슘결핍','b6':'다량원소결핍 (N)','b7':'다량원소결핍 (P)','b8':'다량원소결핍 (K)'},\n",
        "           '3':{'a9':'파프리카흰가루병','a10':'파프리카잘록병','b3':'칼슘결핍','b6':'다량원소결핍 (N)','b7':'다량원소결핍 (P)','b8':'다량원소결핍 (K)'},\n",
        "           '4':{'a3':'오이노균병','a4':'오이흰가루병','b1':'냉해피해','b6':'다량원소결핍 (N)','b7':'다량원소결핍 (P)','b8':'다량원소결핍 (K)'},\n",
        "           '5':{'a7':'고추탄저병','a8':'고추흰가루병','b3':'칼슘결핍','b6':'다량원소결핍 (N)','b7':'다량원소결핍 (P)','b8':'다량원소결핍 (K)'},\n",
        "           '6':{'a11':'시설포도탄저병','a12':'시설포도노균병','b4':'일소피해','b5':'축과병'}}\n",
        "risk = {'1':'초기','2':'중기','3':'말기'}"
      ]
    },
    {
      "cell_type": "code",
      "execution_count": null,
      "metadata": {
        "id": "sQPeZ7MlMgcO"
      },
      "outputs": [],
      "source": [
        "# key, value 꺼내는거 예시\n",
        "for key, value in disease.items():\n",
        "  print('key:',key,'value:',value)"
      ]
    },
    {
      "cell_type": "code",
      "execution_count": null,
      "metadata": {
        "colab": {
          "base_uri": "https://localhost:8080/"
        },
        "id": "hqQggoVZ6jC2",
        "outputId": "729cb87a-c81f-434e-8b6f-6124d20e92dc"
      },
      "outputs": [
        {
          "output_type": "execute_result",
          "data": {
            "text/plain": [
              "[('1_00_0', '딸기_정상'),\n",
              " ('1_a1_1', '딸기_딸기잿빛곰팡이병_초기'),\n",
              " ('1_a1_2', '딸기_딸기잿빛곰팡이병_중기'),\n",
              " ('1_a1_3', '딸기_딸기잿빛곰팡이병_말기'),\n",
              " ('1_a2_1', '딸기_딸기흰가루병_초기'),\n",
              " ('1_a2_2', '딸기_딸기흰가루병_중기'),\n",
              " ('1_a2_3', '딸기_딸기흰가루병_말기'),\n",
              " ('1_b1_1', '딸기_냉해피해_초기'),\n",
              " ('1_b1_2', '딸기_냉해피해_중기'),\n",
              " ('1_b1_3', '딸기_냉해피해_말기')]"
            ]
          },
          "metadata": {},
          "execution_count": 24
        }
      ],
      "source": [
        "label_description = {}\n",
        "for key, value in disease.items(): #disease에서 key와 value 하나씩 꺼내서 쓰겠다. \n",
        "    label_description[f'{key}_00_0'] = f'{crop[key]}_정상'# 정상인 친구들은 {key_00_0 : crop[key]_정상} 식으로 담겠다.\n",
        "    for disease_code in value: # 병해가 있는거 차례대로\n",
        "        for risk_code in risk: # risk 순서대로 명명하겠다.\n",
        "            label = f'{key}_{disease_code}_{risk_code}'\n",
        "            label_description[label] = f'{crop[key]}_{disease[key][disease_code]}_{risk[risk_code]}'\n",
        "list(label_description.items())[:10]"
      ]
    },
    {
      "cell_type": "code",
      "execution_count": null,
      "metadata": {
        "id": "WzPCkNiPPqwY"
      },
      "outputs": [],
      "source": [
        "label_encoder = {key:idx for idx, key in enumerate(label_description)}\n",
        "label_decoder = {val:key for key, val in label_encoder.items()}"
      ]
    },
    {
      "cell_type": "code",
      "execution_count": null,
      "metadata": {
        "colab": {
          "background_save": true
        },
        "id": "i7DpG62yPrzr"
      },
      "outputs": [],
      "source": [
        "label_encoder"
      ]
    },
    {
      "cell_type": "code",
      "execution_count": null,
      "metadata": {
        "id": "hqfDSY8vPr67"
      },
      "outputs": [],
      "source": [
        "class CustomDataset(Dataset):\n",
        "    def __init__(self, files, labels=None, mode='train'):\n",
        "        self.mode = mode\n",
        "        self.files = files\n",
        "        self.csv_feature_dict = csv_feature_dict\n",
        "        self.csv_feature_check = [0]*len(self.files)\n",
        "        self.csv_features = [None]*len(self.files)\n",
        "        self.max_len = 24 * 6\n",
        "        self.label_encoder = label_encoder\n",
        "\n",
        "    def __len__(self):\n",
        "        return len(self.files)\n",
        "    \n",
        "    def __getitem__(self, i):\n",
        "        file = self.files[i]\n",
        "        file_name = file.split('/')[-1]\n",
        "        \n",
        "        # csv\n",
        "        if self.csv_feature_check[i] == 0:\n",
        "            csv_path = f'{file}/{file_name}.csv'\n",
        "            df = pd.read_csv(csv_path)[self.csv_feature_dict.keys()]\n",
        "            df = df.replace('-', 0)\n",
        "            # MinMax scaling\n",
        "            for col in df.columns:\n",
        "                df[col] = df[col].astype(float) - self.csv_feature_dict[col][0]\n",
        "                df[col] = df[col] / (self.csv_feature_dict[col][1]-self.csv_feature_dict[col][0])\n",
        "            # zero padding\n",
        "            pad = np.zeros((self.max_len, len(df.columns)))\n",
        "            length = min(self.max_len, len(df))\n",
        "            pad[-length:] = df.to_numpy()[-length:]\n",
        "            # transpose to sequential data\n",
        "            csv_feature = pad.T\n",
        "            self.csv_features[i] = csv_feature\n",
        "            self.csv_feature_check[i] = 1\n",
        "        else:\n",
        "            csv_feature = self.csv_features[i]\n",
        "        \n",
        "        # image\n",
        "        image_path = f'{file}/{file_name}.jpg'\n",
        "        img = cv2.imread(image_path)\n",
        "        img = cv2.resize(img, dsize=(224, 224), interpolation=cv2.INTER_AREA)\n",
        "        img = img.astype(np.float32)/255\n",
        "        img = np.transpose(img, (2,0,1))\n",
        "        \n",
        "        if self.mode == 'train':\n",
        "            json_path = f'{file}/{file_name}.json'\n",
        "            with open(json_path, 'r') as f:\n",
        "                json_file = json.load(f)\n",
        "            \n",
        "            crop = json_file['annotations']['crop']\n",
        "            disease = json_file['annotations']['disease']\n",
        "            risk = json_file['annotations']['risk']\n",
        "            label = f'{crop}_{disease}_{risk}'\n",
        "            \n",
        "            return {\n",
        "                'img' : torch.tensor(img, dtype=torch.float32),\n",
        "                'csv_feature' : torch.tensor(csv_feature, dtype=torch.float32),\n",
        "                'label' : torch.tensor(self.label_encoder[label], dtype=torch.long)\n",
        "            }\n",
        "        else:\n",
        "            return {\n",
        "                'img' : torch.tensor(img, dtype=torch.float32),\n",
        "                'csv_feature' : torch.tensor(csv_feature, dtype=torch.float32)\n",
        "            }"
      ]
    },
    {
      "cell_type": "code",
      "execution_count": null,
      "metadata": {
        "id": "NCWpN29DuTUH"
      },
      "outputs": [],
      "source": [
        "device = torch.device(\"cuda:0\")\n",
        "batch_size = 16\n",
        "class_n = len(label_encoder)\n",
        "learning_rate = 1e-4\n",
        "embedding_dim = 256\n",
        "num_features = len(csv_feature_dict)\n",
        "max_len = 24*6\n",
        "dropout_rate = 0.1\n",
        "epochs = 8\n",
        "vision_pretrain = True\n",
        "save_path = 'best_model.pt'"
      ]
    },
    {
      "cell_type": "markdown",
      "metadata": {
        "id": "np8o-aWj6jC3"
      },
      "source": [
        "# 데이터셋 구성"
      ]
    },
    {
      "cell_type": "code",
      "execution_count": null,
      "metadata": {
        "id": "tAhmT_mV6jC3"
      },
      "outputs": [],
      "source": [
        "train = sorted(glob('/content/drive/MyDrive/dacon/data/train/*'))\n",
        "test = sorted(glob('/content/drive/MyDrive/dacon/data/test/*'))\n",
        "\n",
        "labelsss = pd.read_csv('/content/drive/MyDrive/dacon/data/train.csv')['label']\n",
        "train, val = train_test_split(train, test_size=0.2, stratify=labelsss)"
      ]
    },
    {
      "cell_type": "code",
      "execution_count": null,
      "metadata": {
        "colab": {
          "base_uri": "https://localhost:8080/"
        },
        "id": "Enr5OAF5yYnS",
        "outputId": "17457555-9f5b-4f4b-d1ae-08abcb22b6db"
      },
      "outputs": [
        {
          "output_type": "stream",
          "name": "stderr",
          "text": [
            "/usr/local/lib/python3.7/dist-packages/torch/utils/data/dataloader.py:481: UserWarning: This DataLoader will create 16 worker processes in total. Our suggested max number of worker in current system is 2, which is smaller than what this DataLoader is going to create. Please be aware that excessive worker creation might get DataLoader running slow or even freeze, lower the worker number to avoid potential slowness/freeze if necessary.\n",
            "  cpuset_checked))\n"
          ]
        }
      ],
      "source": [
        "train_dataset = CustomDataset(train)\n",
        "val_dataset = CustomDataset(val)\n",
        "test_dataset = CustomDataset(test, mode = 'test')\n",
        "\n",
        "train_dataloader = torch.utils.data.DataLoader(train_dataset, batch_size=batch_size, num_workers=16, shuffle=True)\n",
        "val_dataloader = torch.utils.data.DataLoader(val_dataset, batch_size=batch_size, num_workers=16, shuffle=False)\n",
        "test_dataloader = torch.utils.data.DataLoader(test_dataset, batch_size=batch_size, num_workers=16, shuffle=False)"
      ]
    },
    {
      "cell_type": "markdown",
      "metadata": {
        "id": "4nYV9Iyd6jC3"
      },
      "source": [
        "# 모델\n",
        "\n",
        "## 이미지 분류 모델 : EfficientNet b0\n",
        "\n",
        "이미지 분류 모델, 시계열 분석 모델을 바꿔가면서 실험을 했습니다.\n",
        "\n",
        "이미지 분류 모델: ResNet 50, efficientNet b0~b4\n",
        "\n",
        "시계열 분석 모델 : LSTM, GRU"
      ]
    },
    {
      "cell_type": "code",
      "execution_count": null,
      "metadata": {
        "id": "ioErN8Wd6jC3"
      },
      "outputs": [],
      "source": [
        "class CNN_Encoder(nn.Module):\n",
        "    def __init__(self, class_n, rate=0.2):\n",
        "        super(CNN_Encoder, self).__init__()\n",
        "        self.model = models.efficientnet_b0(pretrained=True)\n",
        "\n",
        "    def forward(self, inputs):\n",
        "        # inputs = nn.Linear() \n",
        "        output = self.model(inputs)\n",
        "        return output\n",
        "        "
      ]
    },
    {
      "cell_type": "code",
      "execution_count": null,
      "metadata": {
        "id": "Wj14g-QFhwpB"
      },
      "outputs": [],
      "source": [
        ""
      ]
    },
    {
      "cell_type": "markdown",
      "metadata": {
        "id": "g_5Iiy4E6jC4"
      },
      "source": [
        "## 시계열 모델 :GRU"
      ]
    },
    {
      "cell_type": "code",
      "execution_count": null,
      "metadata": {
        "id": "AMilbiH26jC4"
      },
      "outputs": [],
      "source": [
        "class RNN_Decoder(nn.Module):\n",
        "    def __init__(self, max_len, embedding_dim, num_features, class_n, rate):\n",
        "        super(RNN_Decoder, self).__init__()\n",
        "        self.lstm = nn.GRU(max_len, embedding_dim)\n",
        "        self.rnn_fc = nn.Linear(num_features*embedding_dim, 1000)\n",
        "        self.final_layer = nn.Linear(1000 + 1000, class_n) # resnet out_dim + lstm out_dim\n",
        "        self.dropout = nn.Dropout(rate)\n",
        "\n",
        "    def forward(self, enc_out, dec_inp):\n",
        "        hidden, _ = self.lstm(dec_inp)\n",
        "        hidden = hidden.view(hidden.size(0), -1)\n",
        "        hidden = self.rnn_fc(hidden)\n",
        "        concat = torch.cat([enc_out, hidden], dim=1) # enc_out + hidden \n",
        "        fc_input = concat\n",
        "        output = self.dropout((self.final_layer(fc_input)))\n",
        "        return output"
      ]
    },
    {
      "cell_type": "code",
      "source": [
        "class VanillaRNN(nn.Module):\n",
        "\n",
        "  def __init__(self, input_size, hidden_size, sequence_length, num_layers, device):\n",
        "    super(VanillaRNN, self).__init__()\n",
        "    self.device = device\n",
        "    self.hidden_size = hidden_size\n",
        "    self.num_layers = num_layers\n",
        "    self.rnn = nn.RNN(input_size, hidden_size, num_layers, batch_first=True)\n",
        "    self.fc = nn.Sequential(nn.Linear(hidden_size * sequence_length, 1), nn.Sigmoid())\n",
        "\n",
        "  def forward(self, x):\n",
        "    h0 = torch.zeros(self.num_layers, x.size()[0], self.hidden_size).to(self.device) # 초기 hidden state 설정하기.\n",
        "    out, _ = self.rnn(x, h0) # out: RNN의 마지막 레이어로부터 나온 output feature 를 반환한다. hn: hidden state를 반환한다.\n",
        "    out = out.reshape(out.shape[0], -1) # many to many 전략\n",
        "    out = self.fc(out)\n",
        "    return out"
      ],
      "metadata": {
        "id": "aObWQAzro2A6"
      },
      "execution_count": null,
      "outputs": []
    },
    {
      "cell_type": "markdown",
      "metadata": {
        "id": "dQZUTkNO6jC4"
      },
      "source": [
        "## 앙상블"
      ]
    },
    {
      "cell_type": "code",
      "execution_count": null,
      "metadata": {
        "id": "SrUmbChU6jC4"
      },
      "outputs": [],
      "source": [
        "class CNN2RNN(nn.Module):\n",
        "    def __init__(self, max_len, embedding_dim, num_features, class_n, rate):\n",
        "        super(CNN2RNN, self).__init__()\n",
        "        self.cnn = CNN_Encoder(embedding_dim, rate)\n",
        "        self.rnn = RNN_Decoder(max_len, embedding_dim, num_features, class_n, rate)\n",
        "        \n",
        "    def forward(self, img, seq):\n",
        "        cnn_output = self.cnn(img)\n",
        "        output = self.rnn(cnn_output, seq)\n",
        "        \n",
        "        return output"
      ]
    },
    {
      "cell_type": "code",
      "execution_count": null,
      "metadata": {
        "id": "5okLLzGd6jC4"
      },
      "outputs": [],
      "source": [
        "model = CNN2RNN(max_len=max_len, embedding_dim=embedding_dim, num_features=num_features, class_n=class_n, rate=dropout_rate)\n",
        "model = model.to(device)"
      ]
    },
    {
      "cell_type": "code",
      "execution_count": null,
      "metadata": {
        "id": "QXToBetEdj3U"
      },
      "outputs": [],
      "source": [
        "device = torch.device(\"cuda:0\" if torch.cuda.is_available() else \"cpu\")"
      ]
    },
    {
      "cell_type": "code",
      "execution_count": null,
      "metadata": {
        "colab": {
          "base_uri": "https://localhost:8080/"
        },
        "id": "kP16r3Q_sJgq",
        "outputId": "47f3f8b9-45f7-4312-d76c-cff47b2f1282"
      },
      "outputs": [
        {
          "output_type": "stream",
          "name": "stdout",
          "text": [
            "cuda:0\n"
          ]
        }
      ],
      "source": [
        "print(device)"
      ]
    },
    {
      "cell_type": "markdown",
      "metadata": {
        "id": "I9lINwoP6jC4"
      },
      "source": [
        "# 학습"
      ]
    },
    {
      "cell_type": "code",
      "execution_count": null,
      "metadata": {
        "id": "EjU0o1O16jC4"
      },
      "outputs": [],
      "source": [
        "optimizer = torch.optim.Adam(model.parameters(), lr=learning_rate)\n",
        "criterion = nn.CrossEntropyLoss()"
      ]
    },
    {
      "cell_type": "code",
      "execution_count": null,
      "metadata": {
        "id": "t7pLY2uU6jC4"
      },
      "outputs": [],
      "source": [
        "def accuracy_function(real, pred):    \n",
        "    real = real.cpu() # gpu에 있는 tensor를 cpu에 복사\n",
        "    pred = torch.argmax(pred, dim=1).cpu() # tensor의 행별 최대값이 들어있는 인덱스 반환\n",
        "    score = f1_score(real, pred, average='macro')\n",
        "    return score\n",
        "\n",
        "def train_step(batch_item, training):\n",
        "    #input 값을 gpu에 올리기\n",
        "    img = batch_item['img'].to(device) \n",
        "    csv_feature = batch_item['csv_feature'].to(device)\n",
        "    label = batch_item['label'].to(device) \n",
        "    if training is True:\n",
        "        model.train()\n",
        "        optimizer.zero_grad() # backword 하기전에 gradient 0으로 설정\n",
        "        with torch.cuda.amp.autocast():\n",
        "            output = model(img, csv_feature)\n",
        "            loss = criterion(output, label)\n",
        "        loss.backward()\n",
        "        optimizer.step()\n",
        "        score = accuracy_function(label, output)\n",
        "        return loss, score\n",
        "    else:\n",
        "        model.eval()\n",
        "        with torch.no_grad():\n",
        "            output = model(img, csv_feature)\n",
        "            loss = criterion(output, label)\n",
        "        score = accuracy_function(label, output)\n",
        "        return loss, score"
      ]
    },
    {
      "cell_type": "code",
      "execution_count": null,
      "metadata": {
        "id": "vnqS8-ORheC9"
      },
      "outputs": [],
      "source": [
        "import gc\n",
        "gc.collect()\n",
        "torch.cuda.empty_cache()"
      ]
    },
    {
      "cell_type": "code",
      "execution_count": null,
      "metadata": {
        "id": "X3Y8sPxdY8FQ"
      },
      "outputs": [],
      "source": [
        ""
      ]
    },
    {
      "cell_type": "code",
      "execution_count": null,
      "metadata": {
        "colab": {
          "base_uri": "https://localhost:8080/"
        },
        "id": "UB4Co0il6jC4",
        "outputId": "f0a7b26b-d757-4b47-f84c-2497d55e7948"
      },
      "outputs": [
        {
          "output_type": "stream",
          "name": "stderr",
          "text": [
            "/usr/local/lib/python3.7/dist-packages/torch/utils/data/dataloader.py:481: UserWarning: This DataLoader will create 16 worker processes in total. Our suggested max number of worker in current system is 2, which is smaller than what this DataLoader is going to create. Please be aware that excessive worker creation might get DataLoader running slow or even freeze, lower the worker number to avoid potential slowness/freeze if necessary.\n",
            "  cpuset_checked))\n",
            "289it [02:18,  2.09it/s, Epoch=1, Loss=0.409071, Mean Loss=1.263620, Mean F-1=0.511202]\n",
            "/usr/local/lib/python3.7/dist-packages/torch/utils/data/dataloader.py:481: UserWarning: This DataLoader will create 16 worker processes in total. Our suggested max number of worker in current system is 2, which is smaller than what this DataLoader is going to create. Please be aware that excessive worker creation might get DataLoader running slow or even freeze, lower the worker number to avoid potential slowness/freeze if necessary.\n",
            "  cpuset_checked))\n",
            "73it [00:29,  2.48it/s, Epoch=1, Val Loss=1.114161, Mean Val Loss=0.283497, Mean Val F-1=0.800592]\n",
            "/usr/local/lib/python3.7/dist-packages/torch/utils/data/dataloader.py:481: UserWarning: This DataLoader will create 16 worker processes in total. Our suggested max number of worker in current system is 2, which is smaller than what this DataLoader is going to create. Please be aware that excessive worker creation might get DataLoader running slow or even freeze, lower the worker number to avoid potential slowness/freeze if necessary.\n",
            "  cpuset_checked))\n",
            "289it [02:17,  2.11it/s, Epoch=2, Loss=0.795168, Mean Loss=0.533671, Mean F-1=0.703113]\n",
            "/usr/local/lib/python3.7/dist-packages/torch/utils/data/dataloader.py:481: UserWarning: This DataLoader will create 16 worker processes in total. Our suggested max number of worker in current system is 2, which is smaller than what this DataLoader is going to create. Please be aware that excessive worker creation might get DataLoader running slow or even freeze, lower the worker number to avoid potential slowness/freeze if necessary.\n",
            "  cpuset_checked))\n",
            "73it [00:29,  2.49it/s, Epoch=2, Val Loss=0.684948, Mean Val Loss=0.165956, Mean Val F-1=0.855912]\n",
            "/usr/local/lib/python3.7/dist-packages/torch/utils/data/dataloader.py:481: UserWarning: This DataLoader will create 16 worker processes in total. Our suggested max number of worker in current system is 2, which is smaller than what this DataLoader is going to create. Please be aware that excessive worker creation might get DataLoader running slow or even freeze, lower the worker number to avoid potential slowness/freeze if necessary.\n",
            "  cpuset_checked))\n",
            "289it [02:18,  2.09it/s, Epoch=3, Loss=0.431641, Mean Loss=0.418142, Mean F-1=0.759255]\n",
            "/usr/local/lib/python3.7/dist-packages/torch/utils/data/dataloader.py:481: UserWarning: This DataLoader will create 16 worker processes in total. Our suggested max number of worker in current system is 2, which is smaller than what this DataLoader is going to create. Please be aware that excessive worker creation might get DataLoader running slow or even freeze, lower the worker number to avoid potential slowness/freeze if necessary.\n",
            "  cpuset_checked))\n",
            "73it [00:29,  2.49it/s, Epoch=3, Val Loss=0.192148, Mean Val Loss=0.168760, Mean Val F-1=0.859740]\n",
            "/usr/local/lib/python3.7/dist-packages/torch/utils/data/dataloader.py:481: UserWarning: This DataLoader will create 16 worker processes in total. Our suggested max number of worker in current system is 2, which is smaller than what this DataLoader is going to create. Please be aware that excessive worker creation might get DataLoader running slow or even freeze, lower the worker number to avoid potential slowness/freeze if necessary.\n",
            "  cpuset_checked))\n",
            "289it [02:18,  2.09it/s, Epoch=4, Loss=0.708411, Mean Loss=0.368888, Mean F-1=0.767715]\n",
            "/usr/local/lib/python3.7/dist-packages/torch/utils/data/dataloader.py:481: UserWarning: This DataLoader will create 16 worker processes in total. Our suggested max number of worker in current system is 2, which is smaller than what this DataLoader is going to create. Please be aware that excessive worker creation might get DataLoader running slow or even freeze, lower the worker number to avoid potential slowness/freeze if necessary.\n",
            "  cpuset_checked))\n",
            "73it [00:29,  2.46it/s, Epoch=4, Val Loss=0.082684, Mean Val Loss=0.133577, Mean Val F-1=0.888437]\n",
            "/usr/local/lib/python3.7/dist-packages/torch/utils/data/dataloader.py:481: UserWarning: This DataLoader will create 16 worker processes in total. Our suggested max number of worker in current system is 2, which is smaller than what this DataLoader is going to create. Please be aware that excessive worker creation might get DataLoader running slow or even freeze, lower the worker number to avoid potential slowness/freeze if necessary.\n",
            "  cpuset_checked))\n",
            "289it [02:17,  2.11it/s, Epoch=5, Loss=0.584319, Mean Loss=0.326446, Mean F-1=0.800602]\n",
            "/usr/local/lib/python3.7/dist-packages/torch/utils/data/dataloader.py:481: UserWarning: This DataLoader will create 16 worker processes in total. Our suggested max number of worker in current system is 2, which is smaller than what this DataLoader is going to create. Please be aware that excessive worker creation might get DataLoader running slow or even freeze, lower the worker number to avoid potential slowness/freeze if necessary.\n",
            "  cpuset_checked))\n",
            "73it [00:29,  2.47it/s, Epoch=5, Val Loss=0.285328, Mean Val Loss=0.141513, Mean Val F-1=0.888050]\n",
            "/usr/local/lib/python3.7/dist-packages/torch/utils/data/dataloader.py:481: UserWarning: This DataLoader will create 16 worker processes in total. Our suggested max number of worker in current system is 2, which is smaller than what this DataLoader is going to create. Please be aware that excessive worker creation might get DataLoader running slow or even freeze, lower the worker number to avoid potential slowness/freeze if necessary.\n",
            "  cpuset_checked))\n",
            "289it [02:18,  2.08it/s, Epoch=6, Loss=0.499408, Mean Loss=0.300798, Mean F-1=0.813862]\n",
            "/usr/local/lib/python3.7/dist-packages/torch/utils/data/dataloader.py:481: UserWarning: This DataLoader will create 16 worker processes in total. Our suggested max number of worker in current system is 2, which is smaller than what this DataLoader is going to create. Please be aware that excessive worker creation might get DataLoader running slow or even freeze, lower the worker number to avoid potential slowness/freeze if necessary.\n",
            "  cpuset_checked))\n",
            "73it [00:29,  2.49it/s, Epoch=6, Val Loss=0.691613, Mean Val Loss=0.160414, Mean Val F-1=0.894402]\n",
            "/usr/local/lib/python3.7/dist-packages/torch/utils/data/dataloader.py:481: UserWarning: This DataLoader will create 16 worker processes in total. Our suggested max number of worker in current system is 2, which is smaller than what this DataLoader is going to create. Please be aware that excessive worker creation might get DataLoader running slow or even freeze, lower the worker number to avoid potential slowness/freeze if necessary.\n",
            "  cpuset_checked))\n",
            "289it [02:16,  2.12it/s, Epoch=7, Loss=1.204058, Mean Loss=0.284554, Mean F-1=0.820526]\n",
            "/usr/local/lib/python3.7/dist-packages/torch/utils/data/dataloader.py:481: UserWarning: This DataLoader will create 16 worker processes in total. Our suggested max number of worker in current system is 2, which is smaller than what this DataLoader is going to create. Please be aware that excessive worker creation might get DataLoader running slow or even freeze, lower the worker number to avoid potential slowness/freeze if necessary.\n",
            "  cpuset_checked))\n",
            "73it [00:29,  2.46it/s, Epoch=7, Val Loss=0.093520, Mean Val Loss=0.163749, Mean Val F-1=0.899925]\n",
            "/usr/local/lib/python3.7/dist-packages/torch/utils/data/dataloader.py:481: UserWarning: This DataLoader will create 16 worker processes in total. Our suggested max number of worker in current system is 2, which is smaller than what this DataLoader is going to create. Please be aware that excessive worker creation might get DataLoader running slow or even freeze, lower the worker number to avoid potential slowness/freeze if necessary.\n",
            "  cpuset_checked))\n",
            "289it [02:19,  2.07it/s, Epoch=8, Loss=0.647241, Mean Loss=0.317563, Mean F-1=0.795951]\n",
            "/usr/local/lib/python3.7/dist-packages/torch/utils/data/dataloader.py:481: UserWarning: This DataLoader will create 16 worker processes in total. Our suggested max number of worker in current system is 2, which is smaller than what this DataLoader is going to create. Please be aware that excessive worker creation might get DataLoader running slow or even freeze, lower the worker number to avoid potential slowness/freeze if necessary.\n",
            "  cpuset_checked))\n",
            "73it [00:30,  2.43it/s, Epoch=8, Val Loss=0.586661, Mean Val Loss=0.179245, Mean Val F-1=0.890992]\n"
          ]
        }
      ],
      "source": [
        "loss_plot, val_loss_plot = [], []\n",
        "metric_plot, val_metric_plot = [], []\n",
        "\n",
        "for epoch in range(epochs):\n",
        "    total_loss, total_val_loss = 0, 0\n",
        "    total_acc, total_val_acc = 0, 0\n",
        "    \n",
        "    tqdm_dataset = tqdm(enumerate(train_dataloader))\n",
        "    training = True\n",
        "    for batch, batch_item in tqdm_dataset:\n",
        "        # batch = batch.to(torch.float32)\n",
        "        # batch_item = batch_item.to(torch.float32)\n",
        "        batch_loss, batch_acc = train_step(batch_item, training)\n",
        "        total_loss += batch_loss\n",
        "        total_acc += batch_acc\n",
        "        \n",
        "        tqdm_dataset.set_postfix({\n",
        "            'Epoch': epoch + 1,\n",
        "            'Loss': '{:06f}'.format(batch_loss.item()),\n",
        "            'Mean Loss' : '{:06f}'.format(total_loss/(batch+1)),\n",
        "            'Mean F-1' : '{:06f}'.format(total_acc/(batch+1))\n",
        "        })\n",
        "    loss_plot.append(total_loss/(batch+1))\n",
        "    metric_plot.append(total_acc/(batch+1))\n",
        "    \n",
        "    tqdm_dataset = tqdm(enumerate(val_dataloader))\n",
        "    training = False\n",
        "    for batch, batch_item in tqdm_dataset:\n",
        "        batch_loss, batch_acc = train_step(batch_item, training)\n",
        "        total_val_loss += batch_loss\n",
        "        total_val_acc += batch_acc\n",
        "        \n",
        "        tqdm_dataset.set_postfix({\n",
        "            'Epoch': epoch + 1,\n",
        "            'Val Loss': '{:06f}'.format(batch_loss.item()),\n",
        "            'Mean Val Loss' : '{:06f}'.format(total_val_loss/(batch+1)),\n",
        "            'Mean Val F-1' : '{:06f}'.format(total_val_acc/(batch+1))\n",
        "        })\n",
        "    val_loss_plot.append(total_val_loss/(batch+1))\n",
        "    val_metric_plot.append(total_val_acc/(batch+1))\n",
        "    \n",
        "    if np.max(val_metric_plot) == val_metric_plot[-1]:\n",
        "        torch.save(model.state_dict(), save_path)"
      ]
    },
    {
      "cell_type": "markdown",
      "metadata": {
        "id": "1odqZ_CL6jC4"
      },
      "source": [
        "# 학습 결과"
      ]
    },
    {
      "cell_type": "code",
      "execution_count": null,
      "metadata": {
        "id": "-GjF_oR16jC5"
      },
      "outputs": [],
      "source": [
        "plt.figure(figsize=(10,7))\n",
        "plt.grid()\n",
        "plt.plot(loss_plot, label='train_loss')\n",
        "plt.plot(val_loss_plot, label='val_loss')\n",
        "plt.xlabel('epoch')\n",
        "plt.ylabel('loss')\n",
        "plt.title(\"Loss\", fontsize=25)\n",
        "plt.legend()\n",
        "plt.savefig('efficient_b0+LSTM')\n",
        "plt.show()"
      ]
    },
    {
      "cell_type": "code",
      "execution_count": null,
      "metadata": {
        "colab": {
          "base_uri": "https://localhost:8080/",
          "height": 467
        },
        "id": "r0zz-SUq6jC5",
        "outputId": "2e7f549b-1bbd-4e6d-b4a8-a5467c1ec0c3"
      },
      "outputs": [
        {
          "output_type": "display_data",
          "data": {
            "image/png": "[encoded data removed]",
            "text/plain": [
              "<Figure size 720x504 with 1 Axes>"
            ]
          },
          "metadata": {
            "needs_background": "light"
          }
        }
      ],
      "source": [
        "plt.figure(figsize=(10,7))\n",
        "plt.grid()\n",
        "plt.plot(metric_plot, label='train_metric')\n",
        "plt.plot(val_metric_plot, label='val_metric')\n",
        "plt.xlabel('epoch')\n",
        "plt.ylabel('metric')\n",
        "plt.title(\"F-1\", fontsize=25)\n",
        "plt.legend()\n",
        "plt.savefig('efficient_b0+LSTM_F1')\n",
        "plt.show()"
      ]
    },
    {
      "cell_type": "markdown",
      "metadata": {
        "id": "BD1xEB5-6jC5"
      },
      "source": [
        "# 추론"
      ]
    },
    {
      "cell_type": "code",
      "execution_count": null,
      "metadata": {
        "colab": {
          "base_uri": "https://localhost:8080/"
        },
        "id": "rYmAaRfF6jC5",
        "outputId": "7d91aa25-958b-40ec-b0cd-d5f1625e7595"
      },
      "outputs": [
        {
          "name": "stderr",
          "output_type": "stream",
          "text": [
            "/usr/local/lib/python3.7/dist-packages/torch/utils/data/dataloader.py:481: UserWarning: This DataLoader will create 16 worker processes in total. Our suggested max number of worker in current system is 2, which is smaller than what this DataLoader is going to create. Please be aware that excessive worker creation might get DataLoader running slow or even freeze, lower the worker number to avoid potential slowness/freeze if necessary.\n",
            "  cpuset_checked))\n",
            "0it [00:00, ?it/s]/usr/local/lib/python3.7/dist-packages/ipykernel_launcher.py:10: UserWarning: To copy construct from a tensor, it is recommended to use sourceTensor.clone().detach() or sourceTensor.clone().detach().requires_grad_(True), rather than torch.tensor(sourceTensor).\n",
            "  # Remove the CWD from sys.path while we load stuff.\n",
            "3245it [18:21,  2.95it/s]\n"
          ]
        }
      ],
      "source": [
        "def predict(dataset):\n",
        "    model.eval()\n",
        "    tqdm_dataset = tqdm(enumerate(dataset))\n",
        "    results = []\n",
        "    for batch, batch_item in tqdm_dataset:\n",
        "        img = batch_item['img'].to(device)\n",
        "        seq = batch_item['csv_feature'].to(device)\n",
        "        with torch.no_grad():\n",
        "            output = model(img, seq)\n",
        "        output = torch.tensor(torch.argmax(output, dim=1), dtype=torch.int32).cpu().numpy()\n",
        "        results.extend(output)\n",
        "    return results\n",
        "\n",
        "model = CNN2RNN(max_len=max_len, embedding_dim=embedding_dim, num_features=num_features, class_n=class_n, rate=dropout_rate)\n",
        "model.load_state_dict(torch.load(save_path, map_location=device))\n",
        "model.to(device)\n",
        "\n",
        "preds = predict(test_dataloader)"
      ]
    },
    {
      "cell_type": "code",
      "execution_count": null,
      "metadata": {
        "id": "ICibjCXr6jC5"
      },
      "outputs": [],
      "source": [
        "preds = np.array([label_decoder[int(val)] for val in preds])"
      ]
    },
    {
      "cell_type": "markdown",
      "metadata": {
        "id": "po2TUpFB6jC5"
      },
      "source": [
        "# 제출 파일 생성"
      ]
    },
    {
      "cell_type": "code",
      "execution_count": null,
      "metadata": {
        "colab": {
          "base_uri": "https://localhost:8080/",
          "height": 424
        },
        "id": "yCiCtsfX6jC6",
        "outputId": "c8e0ea94-0c36-4527-ef34-1051417604f8"
      },
      "outputs": [
        {
          "data": {
            "text/html": [
              "\n",
              "  <div id=\"df-21c77ec6-65a3-4a5b-9e15-4e3d766df57f\">\n",
              "    <div class=\"colab-df-container\">\n",
              "      <div>\n",
              "<style scoped>\n",
              "    .dataframe tbody tr th:only-of-type {\n",
              "        vertical-align: middle;\n",
              "    }\n",
              "\n",
              "    .dataframe tbody tr th {\n",
              "        vertical-align: top;\n",
              "    }\n",
              "\n",
              "    .dataframe thead th {\n",
              "        text-align: right;\n",
              "    }\n",
              "</style>\n",
              "<table border=\"1\" class=\"dataframe\">\n",
              "  <thead>\n",
              "    <tr style=\"text-align: right;\">\n",
              "      <th></th>\n",
              "      <th>image</th>\n",
              "      <th>label</th>\n",
              "    </tr>\n",
              "  </thead>\n",
              "  <tbody>\n",
              "    <tr>\n",
              "      <th>0</th>\n",
              "      <td>10000</td>\n",
              "      <td>6_00_0</td>\n",
              "    </tr>\n",
              "    <tr>\n",
              "      <th>1</th>\n",
              "      <td>10001</td>\n",
              "      <td>5_b6_1</td>\n",
              "    </tr>\n",
              "    <tr>\n",
              "      <th>2</th>\n",
              "      <td>10002</td>\n",
              "      <td>4_00_0</td>\n",
              "    </tr>\n",
              "    <tr>\n",
              "      <th>3</th>\n",
              "      <td>10003</td>\n",
              "      <td>3_00_0</td>\n",
              "    </tr>\n",
              "    <tr>\n",
              "      <th>4</th>\n",
              "      <td>10004</td>\n",
              "      <td>3_b8_1</td>\n",
              "    </tr>\n",
              "    <tr>\n",
              "      <th>...</th>\n",
              "      <td>...</td>\n",
              "      <td>...</td>\n",
              "    </tr>\n",
              "    <tr>\n",
              "      <th>51901</th>\n",
              "      <td>67673</td>\n",
              "      <td>4_00_0</td>\n",
              "    </tr>\n",
              "    <tr>\n",
              "      <th>51902</th>\n",
              "      <td>67674</td>\n",
              "      <td>3_b7_1</td>\n",
              "    </tr>\n",
              "    <tr>\n",
              "      <th>51903</th>\n",
              "      <td>67675</td>\n",
              "      <td>6_00_0</td>\n",
              "    </tr>\n",
              "    <tr>\n",
              "      <th>51904</th>\n",
              "      <td>67676</td>\n",
              "      <td>2_a5_2</td>\n",
              "    </tr>\n",
              "    <tr>\n",
              "      <th>51905</th>\n",
              "      <td>67677</td>\n",
              "      <td>6_00_0</td>\n",
              "    </tr>\n",
              "  </tbody>\n",
              "</table>\n",
              "<p>51906 rows × 2 columns</p>\n",
              "</div>\n",
              "      <button class=\"colab-df-convert\" onclick=\"convertToInteractive('df-21c77ec6-65a3-4a5b-9e15-4e3d766df57f')\"\n",
              "              title=\"Convert this dataframe to an interactive table.\"\n",
              "              style=\"display:none;\">\n",
              "        \n",
              "  <svg xmlns=\"http://www.w3.org/2000/svg\" height=\"24px\"viewBox=\"0 0 24 24\"\n",
              "       width=\"24px\">\n",
              "    <path d=\"M0 0h24v24H0V0z\" fill=\"none\"/>\n",
              "    <path d=\"M18.56 5.44l.94 2.06.94-2.06 2.06-.94-2.06-.94-.94-2.06-.94 2.06-2.06.94zm-11 1L8.5 8.5l.94-2.06 2.06-.94-2.06-.94L8.5 2.5l-.94 2.06-2.06.94zm10 10l.94 2.06.94-2.06 2.06-.94-2.06-.94-.94-2.06-.94 2.06-2.06.94z\"/><path d=\"M17.41 7.96l-1.37-1.37c-.4-.4-.92-.59-1.43-.59-.52 0-1.04.2-1.43.59L10.3 9.45l-7.72 7.72c-.78.78-.78 2.05 0 2.83L4 21.41c.39.39.9.59 1.41.59.51 0 1.02-.2 1.41-.59l7.78-7.78 2.81-2.81c.8-.78.8-2.07 0-2.86zM5.41 20L4 18.59l7.72-7.72 1.47 1.35L5.41 20z\"/>\n",
              "  </svg>\n",
              "      </button>\n",
              "      \n",
              "  <style>\n",
              "    .colab-df-container {\n",
              "      display:flex;\n",
              "      flex-wrap:wrap;\n",
              "      gap: 12px;\n",
              "    }\n",
              "\n",
              "    .colab-df-convert {\n",
              "      background-color: #E8F0FE;\n",
              "      border: none;\n",
              "      border-radius: 50%;\n",
              "      cursor: pointer;\n",
              "      display: none;\n",
              "      fill: #1967D2;\n",
              "      height: 32px;\n",
              "      padding: 0 0 0 0;\n",
              "      width: 32px;\n",
              "    }\n",
              "\n",
              "    .colab-df-convert:hover {\n",
              "      background-color: #E2EBFA;\n",
              "      box-shadow: 0px 1px 2px rgba(60, 64, 67, 0.3), 0px 1px 3px 1px rgba(60, 64, 67, 0.15);\n",
              "      fill: #174EA6;\n",
              "    }\n",
              "\n",
              "    [theme=dark] .colab-df-convert {\n",
              "      background-color: #3B4455;\n",
              "      fill: #D2E3FC;\n",
              "    }\n",
              "\n",
              "    [theme=dark] .colab-df-convert:hover {\n",
              "      background-color: #434B5C;\n",
              "      box-shadow: 0px 1px 3px 1px rgba(0, 0, 0, 0.15);\n",
              "      filter: drop-shadow(0px 1px 2px rgba(0, 0, 0, 0.3));\n",
              "      fill: #FFFFFF;\n",
              "    }\n",
              "  </style>\n",
              "\n",
              "      <script>\n",
              "        const buttonEl =\n",
              "          document.querySelector('#df-21c77ec6-65a3-4a5b-9e15-4e3d766df57f button.colab-df-convert');\n",
              "        buttonEl.style.display =\n",
              "          google.colab.kernel.accessAllowed ? 'block' : 'none';\n",
              "\n",
              "        async function convertToInteractive(key) {\n",
              "          const element = document.querySelector('#df-21c77ec6-65a3-4a5b-9e15-4e3d766df57f');\n",
              "          const dataTable =\n",
              "            await google.colab.kernel.invokeFunction('convertToInteractive',\n",
              "                                                     [key], {});\n",
              "          if (!dataTable) return;\n",
              "\n",
              "          const docLinkHtml = 'Like what you see? Visit the ' +\n",
              "            '<a target=\"_blank\" href=https://colab.research.google.com/notebooks/data_table.ipynb>data table notebook</a>'\n",
              "            + ' to learn more about interactive tables.';\n",
              "          element.innerHTML = '';\n",
              "          dataTable['output_type'] = 'display_data';\n",
              "          await google.colab.output.renderOutput(dataTable, element);\n",
              "          const docLink = document.createElement('div');\n",
              "          docLink.innerHTML = docLinkHtml;\n",
              "          element.appendChild(docLink);\n",
              "        }\n",
              "      </script>\n",
              "    </div>\n",
              "  </div>\n",
              "  "
            ],
            "text/plain": [
              "       image   label\n",
              "0      10000  6_00_0\n",
              "1      10001  5_b6_1\n",
              "2      10002  4_00_0\n",
              "3      10003  3_00_0\n",
              "4      10004  3_b8_1\n",
              "...      ...     ...\n",
              "51901  67673  4_00_0\n",
              "51902  67674  3_b7_1\n",
              "51903  67675  6_00_0\n",
              "51904  67676  2_a5_2\n",
              "51905  67677  6_00_0\n",
              "\n",
              "[51906 rows x 2 columns]"
            ]
          },
          "execution_count": 68,
          "metadata": {},
          "output_type": "execute_result"
        }
      ],
      "source": [
        "submission = pd.read_csv('data/sample_submission.csv')\n",
        "submission['label'] = preds\n",
        "submission"
      ]
    },
    {
      "cell_type": "code",
      "execution_count": null,
      "metadata": {
        "id": "1_ot95Px6jC6"
      },
      "outputs": [],
      "source": [
        "submission.to_csv('efficientnet_b0+lstm.csv', index=False)"
      ]
    }
  ],
  "metadata": {
    "accelerator": "GPU",
    "colab": {
      "collapsed_sections": [],
      "name": "efficientnet_b0+_LSTM.ipynb",
      "provenance": [],
      "include_colab_link": true
    },
    "kernelspec": {
      "display_name": "Python 3",
      "name": "python3"
    },
    "language_info": {
      "name": "python"
    }
  },
  "nbformat": 4,
  "nbformat_minor": 0
}