{
  "nbformat": 4,
  "nbformat_minor": 0,
  "metadata": {
    "colab": {
      "name": "csv특성파악.ipynb",
      "provenance": [],
      "collapsed_sections": [],
      "mount_file_id": "1xJN2Iq2tjmqchnOQUUcitd3syi_nCNME",
      "authorship_tag": "ABX9TyNYV5AUq/cpkpfBtjKqCoTs",
      "include_colab_link": true
    },
    "kernelspec": {
      "name": "python3",
      "display_name": "Python 3"
    },
    "language_info": {
      "name": "python"
    }
  },
  "cells": [
    {
      "cell_type": "markdown",
      "metadata": {
        "id": "view-in-github",
        "colab_type": "text"
      },
      "source": [
        "<a href=\"https://colab.research.google.com/github/SangMin316/diagnosis-of-crop-disease/blob/main/csv%ED%8A%B9%EC%84%B1%ED%8C%8C%EC%95%85.ipynb\" target=\"_parent\"><img src=\"https://colab.research.google.com/assets/colab-badge.svg\" alt=\"Open In Colab\"/></a>"
      ]
    },
    {
      "cell_type": "code",
      "source": [
        "import numpy as np\n",
        "import pandas as pd\n",
        "import matplotlib.pyplot as plt\n",
        "import cv2\n",
        "from tqdm import tqdm\n",
        "from glob import glob\n",
        "import os\n",
        "import json \n",
        "import torch\n",
        "from torch import nn\n",
        "from torchvision import models\n",
        "from torch.utils.data import Dataset\n",
        "from sklearn.model_selection import train_test_split"
      ],
      "metadata": {
        "id": "Dd1Nge2uPYYk"
      },
      "execution_count": null,
      "outputs": []
    },
    {
      "cell_type": "code",
      "source": [
        "sd = csv_files = glob('/content/drive/MyDrive/dacon/data/train/10027/10027.csv')"
      ],
      "metadata": {
        "id": "NS5oG9fomzfE"
      },
      "execution_count": null,
      "outputs": []
    },
    {
      "cell_type": "code",
      "source": [
        ""
      ],
      "metadata": {
        "colab": {
          "base_uri": "https://localhost:8080/"
        },
        "id": "8OCyboTenRTV",
        "outputId": "88e9a0d4-80a4-4d6d-c1b3-54aaeb807798"
      },
      "execution_count": null,
      "outputs": [
        {
          "output_type": "execute_result",
          "data": {
            "text/plain": [
              "list"
            ]
          },
          "metadata": {},
          "execution_count": 5
        }
      ]
    },
    {
      "cell_type": "markdown",
      "source": [
        "csv특성을 파악해봅시다."
      ],
      "metadata": {
        "id": "QDP6NqxOyKoT"
      }
    },
    {
      "cell_type": "code",
      "source": [
        "csv_files = sorted(glob('/content/drive/MyDrive/dacon/data/train/*/*.csv'))"
      ],
      "metadata": {
        "id": "-P7GSX15PYbi"
      },
      "execution_count": null,
      "outputs": []
    },
    {
      "cell_type": "code",
      "source": [
        "temp_csv = pd.read_csv(csv_files[0])"
      ],
      "metadata": {
        "id": "WVwoXbzanmUq"
      },
      "execution_count": null,
      "outputs": []
    },
    {
      "cell_type": "code",
      "source": [
        "temp_csv"
      ],
      "metadata": {
        "colab": {
          "base_uri": "https://localhost:8080/",
          "height": 956
        },
        "id": "uvmIxN6Co0rI",
        "outputId": "b1acbb7f-960c-4238-fcd0-1cc84bea0869"
      },
      "execution_count": null,
      "outputs": [
        {
          "output_type": "execute_result",
          "data": {
            "text/html": [
              "\n",
              "  <div id=\"df-028bcd0d-3f03-4bba-8979-054444cfc32f\">\n",
              "    <div class=\"colab-df-container\">\n",
              "      <div>\n",
              "<style scoped>\n",
              "    .dataframe tbody tr th:only-of-type {\n",
              "        vertical-align: middle;\n",
              "    }\n",
              "\n",
              "    .dataframe tbody tr th {\n",
              "        vertical-align: top;\n",
              "    }\n",
              "\n",
              "    .dataframe thead th {\n",
              "        text-align: right;\n",
              "    }\n",
              "</style>\n",
              "<table border=\"1\" class=\"dataframe\">\n",
              "  <thead>\n",
              "    <tr style=\"text-align: right;\">\n",
              "      <th></th>\n",
              "      <th>측정시각</th>\n",
              "      <th>내부 온도 1 평균</th>\n",
              "      <th>내부 온도 1 최고</th>\n",
              "      <th>내부 온도 1 최저</th>\n",
              "      <th>내부 온도 2 평균</th>\n",
              "      <th>내부 온도 2 최고</th>\n",
              "      <th>내부 온도 2 최저</th>\n",
              "      <th>내부 온도 3 평균</th>\n",
              "      <th>내부 온도 3 최고</th>\n",
              "      <th>내부 온도 3 최저</th>\n",
              "      <th>내부 온도 4 평균</th>\n",
              "      <th>내부 온도 4 최고</th>\n",
              "      <th>내부 온도 4 최저</th>\n",
              "      <th>내부 습도 1 평균</th>\n",
              "      <th>내부 습도 1 최고</th>\n",
              "      <th>내부 습도 1 최저</th>\n",
              "      <th>내부 습도 2 평균</th>\n",
              "      <th>내부 습도 2 최고</th>\n",
              "      <th>내부 습도 2 최저</th>\n",
              "      <th>내부 습도 3 평균</th>\n",
              "      <th>내부 습도 3 최고</th>\n",
              "      <th>내부 습도 3 최저</th>\n",
              "      <th>내부 습도 4 평균</th>\n",
              "      <th>내부 습도 4 최고</th>\n",
              "      <th>내부 습도 4 최저</th>\n",
              "      <th>내부 이슬점 평균</th>\n",
              "      <th>내부 이슬점 최고</th>\n",
              "      <th>내부 이슬점 최저</th>\n",
              "      <th>내부 CO2 평균</th>\n",
              "      <th>내부 CO2 최고</th>\n",
              "      <th>내부 CO2 최저</th>\n",
              "      <th>외부 풍속 평균</th>\n",
              "      <th>외부 풍속 최고</th>\n",
              "      <th>외부 풍속 최저</th>\n",
              "      <th>내부 EC 1 평균</th>\n",
              "      <th>내부 EC 1 최고</th>\n",
              "      <th>내부 EC 1 최저</th>\n",
              "      <th>내부 PH 1 평균</th>\n",
              "      <th>내부 PH 1 최고</th>\n",
              "      <th>내부 PH 1 최저</th>\n",
              "      <th>배지 중량 평균</th>\n",
              "      <th>배지 중량 최고</th>\n",
              "      <th>배지 중량 최저</th>\n",
              "      <th>양액 온도 평균</th>\n",
              "      <th>양액 온도 최고</th>\n",
              "      <th>양액 온도 최저</th>\n",
              "      <th>외부 풍향 수치</th>\n",
              "      <th>외부 풍향</th>\n",
              "      <th>외부 빗물 시간</th>\n",
              "      <th>외부 누적일사 평균</th>\n",
              "      <th>양액 급액 누적</th>\n",
              "      <th>양액 배액 누적</th>\n",
              "    </tr>\n",
              "  </thead>\n",
              "  <tbody>\n",
              "    <tr>\n",
              "      <th>0</th>\n",
              "      <td>2021-11-26 09:30:00</td>\n",
              "      <td>9.0</td>\n",
              "      <td>9.6</td>\n",
              "      <td>8.5</td>\n",
              "      <td>-</td>\n",
              "      <td>-</td>\n",
              "      <td>-</td>\n",
              "      <td>-</td>\n",
              "      <td>-</td>\n",
              "      <td>-</td>\n",
              "      <td>-</td>\n",
              "      <td>-</td>\n",
              "      <td>-</td>\n",
              "      <td>81.5</td>\n",
              "      <td>82.0</td>\n",
              "      <td>80.8</td>\n",
              "      <td>-</td>\n",
              "      <td>-</td>\n",
              "      <td>-</td>\n",
              "      <td>-</td>\n",
              "      <td>-</td>\n",
              "      <td>-</td>\n",
              "      <td>-</td>\n",
              "      <td>-</td>\n",
              "      <td>-</td>\n",
              "      <td>6.1</td>\n",
              "      <td>6.9</td>\n",
              "      <td>5.9</td>\n",
              "      <td>-</td>\n",
              "      <td>-</td>\n",
              "      <td>-</td>\n",
              "      <td>-</td>\n",
              "      <td>-</td>\n",
              "      <td>-</td>\n",
              "      <td>-</td>\n",
              "      <td>-</td>\n",
              "      <td>-</td>\n",
              "      <td>-</td>\n",
              "      <td>-</td>\n",
              "      <td>-</td>\n",
              "      <td>-</td>\n",
              "      <td>-</td>\n",
              "      <td>-</td>\n",
              "      <td>-</td>\n",
              "      <td>-</td>\n",
              "      <td>-</td>\n",
              "      <td>-</td>\n",
              "      <td>-</td>\n",
              "      <td>-</td>\n",
              "      <td>-</td>\n",
              "      <td>-</td>\n",
              "      <td>-</td>\n",
              "    </tr>\n",
              "    <tr>\n",
              "      <th>1</th>\n",
              "      <td>2021-11-26 09:30:00</td>\n",
              "      <td>8.7</td>\n",
              "      <td>9.3</td>\n",
              "      <td>8.1</td>\n",
              "      <td>-</td>\n",
              "      <td>-</td>\n",
              "      <td>-</td>\n",
              "      <td>-</td>\n",
              "      <td>-</td>\n",
              "      <td>-</td>\n",
              "      <td>-</td>\n",
              "      <td>-</td>\n",
              "      <td>-</td>\n",
              "      <td>85.4</td>\n",
              "      <td>85.7</td>\n",
              "      <td>84.9</td>\n",
              "      <td>-</td>\n",
              "      <td>-</td>\n",
              "      <td>-</td>\n",
              "      <td>-</td>\n",
              "      <td>-</td>\n",
              "      <td>-</td>\n",
              "      <td>-</td>\n",
              "      <td>-</td>\n",
              "      <td>-</td>\n",
              "      <td>6.3</td>\n",
              "      <td>6.8</td>\n",
              "      <td>5.7</td>\n",
              "      <td>492.2</td>\n",
              "      <td>499.0</td>\n",
              "      <td>486.0</td>\n",
              "      <td>-</td>\n",
              "      <td>-</td>\n",
              "      <td>-</td>\n",
              "      <td>-</td>\n",
              "      <td>-</td>\n",
              "      <td>-</td>\n",
              "      <td>-</td>\n",
              "      <td>-</td>\n",
              "      <td>-</td>\n",
              "      <td>-</td>\n",
              "      <td>-</td>\n",
              "      <td>-</td>\n",
              "      <td>-</td>\n",
              "      <td>-</td>\n",
              "      <td>-</td>\n",
              "      <td>-</td>\n",
              "      <td>-</td>\n",
              "      <td>-</td>\n",
              "      <td>-</td>\n",
              "      <td>-</td>\n",
              "      <td>-</td>\n",
              "    </tr>\n",
              "    <tr>\n",
              "      <th>2</th>\n",
              "      <td>2021-11-26 09:20:00</td>\n",
              "      <td>7.9</td>\n",
              "      <td>8.4</td>\n",
              "      <td>7.4</td>\n",
              "      <td>-</td>\n",
              "      <td>-</td>\n",
              "      <td>-</td>\n",
              "      <td>-</td>\n",
              "      <td>-</td>\n",
              "      <td>-</td>\n",
              "      <td>-</td>\n",
              "      <td>-</td>\n",
              "      <td>-</td>\n",
              "      <td>81.9</td>\n",
              "      <td>82.7</td>\n",
              "      <td>81.6</td>\n",
              "      <td>-</td>\n",
              "      <td>-</td>\n",
              "      <td>-</td>\n",
              "      <td>-</td>\n",
              "      <td>-</td>\n",
              "      <td>-</td>\n",
              "      <td>-</td>\n",
              "      <td>-</td>\n",
              "      <td>-</td>\n",
              "      <td>5.0</td>\n",
              "      <td>5.1</td>\n",
              "      <td>4.3</td>\n",
              "      <td>-</td>\n",
              "      <td>-</td>\n",
              "      <td>-</td>\n",
              "      <td>-</td>\n",
              "      <td>-</td>\n",
              "      <td>-</td>\n",
              "      <td>-</td>\n",
              "      <td>-</td>\n",
              "      <td>-</td>\n",
              "      <td>-</td>\n",
              "      <td>-</td>\n",
              "      <td>-</td>\n",
              "      <td>-</td>\n",
              "      <td>-</td>\n",
              "      <td>-</td>\n",
              "      <td>-</td>\n",
              "      <td>-</td>\n",
              "      <td>-</td>\n",
              "      <td>-</td>\n",
              "      <td>-</td>\n",
              "      <td>-</td>\n",
              "      <td>-</td>\n",
              "      <td>-</td>\n",
              "      <td>-</td>\n",
              "    </tr>\n",
              "    <tr>\n",
              "      <th>3</th>\n",
              "      <td>2021-11-26 09:20:00</td>\n",
              "      <td>7.4</td>\n",
              "      <td>7.9</td>\n",
              "      <td>6.9</td>\n",
              "      <td>-</td>\n",
              "      <td>-</td>\n",
              "      <td>-</td>\n",
              "      <td>-</td>\n",
              "      <td>-</td>\n",
              "      <td>-</td>\n",
              "      <td>-</td>\n",
              "      <td>-</td>\n",
              "      <td>-</td>\n",
              "      <td>86.9</td>\n",
              "      <td>87.4</td>\n",
              "      <td>85.9</td>\n",
              "      <td>-</td>\n",
              "      <td>-</td>\n",
              "      <td>-</td>\n",
              "      <td>-</td>\n",
              "      <td>-</td>\n",
              "      <td>-</td>\n",
              "      <td>-</td>\n",
              "      <td>-</td>\n",
              "      <td>-</td>\n",
              "      <td>5.4</td>\n",
              "      <td>6.0</td>\n",
              "      <td>5.0</td>\n",
              "      <td>507.2</td>\n",
              "      <td>512.0</td>\n",
              "      <td>502.0</td>\n",
              "      <td>-</td>\n",
              "      <td>-</td>\n",
              "      <td>-</td>\n",
              "      <td>-</td>\n",
              "      <td>-</td>\n",
              "      <td>-</td>\n",
              "      <td>-</td>\n",
              "      <td>-</td>\n",
              "      <td>-</td>\n",
              "      <td>-</td>\n",
              "      <td>-</td>\n",
              "      <td>-</td>\n",
              "      <td>-</td>\n",
              "      <td>-</td>\n",
              "      <td>-</td>\n",
              "      <td>-</td>\n",
              "      <td>-</td>\n",
              "      <td>-</td>\n",
              "      <td>-</td>\n",
              "      <td>-</td>\n",
              "      <td>-</td>\n",
              "    </tr>\n",
              "    <tr>\n",
              "      <th>4</th>\n",
              "      <td>2021-11-26 09:10:00</td>\n",
              "      <td>6.9</td>\n",
              "      <td>7.2</td>\n",
              "      <td>6.6</td>\n",
              "      <td>-</td>\n",
              "      <td>-</td>\n",
              "      <td>-</td>\n",
              "      <td>-</td>\n",
              "      <td>-</td>\n",
              "      <td>-</td>\n",
              "      <td>-</td>\n",
              "      <td>-</td>\n",
              "      <td>-</td>\n",
              "      <td>83.3</td>\n",
              "      <td>84.0</td>\n",
              "      <td>82.7</td>\n",
              "      <td>-</td>\n",
              "      <td>-</td>\n",
              "      <td>-</td>\n",
              "      <td>-</td>\n",
              "      <td>-</td>\n",
              "      <td>-</td>\n",
              "      <td>-</td>\n",
              "      <td>-</td>\n",
              "      <td>-</td>\n",
              "      <td>4.4</td>\n",
              "      <td>4.5</td>\n",
              "      <td>4.3</td>\n",
              "      <td>-</td>\n",
              "      <td>-</td>\n",
              "      <td>-</td>\n",
              "      <td>-</td>\n",
              "      <td>-</td>\n",
              "      <td>-</td>\n",
              "      <td>-</td>\n",
              "      <td>-</td>\n",
              "      <td>-</td>\n",
              "      <td>-</td>\n",
              "      <td>-</td>\n",
              "      <td>-</td>\n",
              "      <td>-</td>\n",
              "      <td>-</td>\n",
              "      <td>-</td>\n",
              "      <td>-</td>\n",
              "      <td>-</td>\n",
              "      <td>-</td>\n",
              "      <td>-</td>\n",
              "      <td>-</td>\n",
              "      <td>-</td>\n",
              "      <td>-</td>\n",
              "      <td>-</td>\n",
              "      <td>-</td>\n",
              "    </tr>\n",
              "    <tr>\n",
              "      <th>...</th>\n",
              "      <td>...</td>\n",
              "      <td>...</td>\n",
              "      <td>...</td>\n",
              "      <td>...</td>\n",
              "      <td>...</td>\n",
              "      <td>...</td>\n",
              "      <td>...</td>\n",
              "      <td>...</td>\n",
              "      <td>...</td>\n",
              "      <td>...</td>\n",
              "      <td>...</td>\n",
              "      <td>...</td>\n",
              "      <td>...</td>\n",
              "      <td>...</td>\n",
              "      <td>...</td>\n",
              "      <td>...</td>\n",
              "      <td>...</td>\n",
              "      <td>...</td>\n",
              "      <td>...</td>\n",
              "      <td>...</td>\n",
              "      <td>...</td>\n",
              "      <td>...</td>\n",
              "      <td>...</td>\n",
              "      <td>...</td>\n",
              "      <td>...</td>\n",
              "      <td>...</td>\n",
              "      <td>...</td>\n",
              "      <td>...</td>\n",
              "      <td>...</td>\n",
              "      <td>...</td>\n",
              "      <td>...</td>\n",
              "      <td>...</td>\n",
              "      <td>...</td>\n",
              "      <td>...</td>\n",
              "      <td>...</td>\n",
              "      <td>...</td>\n",
              "      <td>...</td>\n",
              "      <td>...</td>\n",
              "      <td>...</td>\n",
              "      <td>...</td>\n",
              "      <td>...</td>\n",
              "      <td>...</td>\n",
              "      <td>...</td>\n",
              "      <td>...</td>\n",
              "      <td>...</td>\n",
              "      <td>...</td>\n",
              "      <td>...</td>\n",
              "      <td>...</td>\n",
              "      <td>...</td>\n",
              "      <td>...</td>\n",
              "      <td>...</td>\n",
              "      <td>...</td>\n",
              "    </tr>\n",
              "    <tr>\n",
              "      <th>583</th>\n",
              "      <td>2021-11-24 09:00:00</td>\n",
              "      <td>8.7</td>\n",
              "      <td>8.9</td>\n",
              "      <td>8.4</td>\n",
              "      <td>-</td>\n",
              "      <td>-</td>\n",
              "      <td>-</td>\n",
              "      <td>-</td>\n",
              "      <td>-</td>\n",
              "      <td>-</td>\n",
              "      <td>-</td>\n",
              "      <td>-</td>\n",
              "      <td>-</td>\n",
              "      <td>89.7</td>\n",
              "      <td>90.1</td>\n",
              "      <td>89.2</td>\n",
              "      <td>-</td>\n",
              "      <td>-</td>\n",
              "      <td>-</td>\n",
              "      <td>-</td>\n",
              "      <td>-</td>\n",
              "      <td>-</td>\n",
              "      <td>-</td>\n",
              "      <td>-</td>\n",
              "      <td>-</td>\n",
              "      <td>7.3</td>\n",
              "      <td>7.5</td>\n",
              "      <td>6.5</td>\n",
              "      <td>483.8</td>\n",
              "      <td>489.0</td>\n",
              "      <td>481.0</td>\n",
              "      <td>-</td>\n",
              "      <td>-</td>\n",
              "      <td>-</td>\n",
              "      <td>-</td>\n",
              "      <td>-</td>\n",
              "      <td>-</td>\n",
              "      <td>-</td>\n",
              "      <td>-</td>\n",
              "      <td>-</td>\n",
              "      <td>-</td>\n",
              "      <td>-</td>\n",
              "      <td>-</td>\n",
              "      <td>-</td>\n",
              "      <td>-</td>\n",
              "      <td>-</td>\n",
              "      <td>-</td>\n",
              "      <td>-</td>\n",
              "      <td>-</td>\n",
              "      <td>-</td>\n",
              "      <td>-</td>\n",
              "      <td>-</td>\n",
              "    </tr>\n",
              "    <tr>\n",
              "      <th>584</th>\n",
              "      <td>2021-11-24 08:50:00</td>\n",
              "      <td>8.8</td>\n",
              "      <td>9.0</td>\n",
              "      <td>8.7</td>\n",
              "      <td>-</td>\n",
              "      <td>-</td>\n",
              "      <td>-</td>\n",
              "      <td>-</td>\n",
              "      <td>-</td>\n",
              "      <td>-</td>\n",
              "      <td>-</td>\n",
              "      <td>-</td>\n",
              "      <td>-</td>\n",
              "      <td>85.3</td>\n",
              "      <td>85.5</td>\n",
              "      <td>85.0</td>\n",
              "      <td>-</td>\n",
              "      <td>-</td>\n",
              "      <td>-</td>\n",
              "      <td>-</td>\n",
              "      <td>-</td>\n",
              "      <td>-</td>\n",
              "      <td>-</td>\n",
              "      <td>-</td>\n",
              "      <td>-</td>\n",
              "      <td>6.6</td>\n",
              "      <td>6.8</td>\n",
              "      <td>6.6</td>\n",
              "      <td>-</td>\n",
              "      <td>-</td>\n",
              "      <td>-</td>\n",
              "      <td>-</td>\n",
              "      <td>-</td>\n",
              "      <td>-</td>\n",
              "      <td>-</td>\n",
              "      <td>-</td>\n",
              "      <td>-</td>\n",
              "      <td>-</td>\n",
              "      <td>-</td>\n",
              "      <td>-</td>\n",
              "      <td>-</td>\n",
              "      <td>-</td>\n",
              "      <td>-</td>\n",
              "      <td>-</td>\n",
              "      <td>-</td>\n",
              "      <td>-</td>\n",
              "      <td>-</td>\n",
              "      <td>-</td>\n",
              "      <td>-</td>\n",
              "      <td>-</td>\n",
              "      <td>-</td>\n",
              "      <td>-</td>\n",
              "    </tr>\n",
              "    <tr>\n",
              "      <th>585</th>\n",
              "      <td>2021-11-24 08:50:00</td>\n",
              "      <td>8.2</td>\n",
              "      <td>8.4</td>\n",
              "      <td>8.0</td>\n",
              "      <td>-</td>\n",
              "      <td>-</td>\n",
              "      <td>-</td>\n",
              "      <td>-</td>\n",
              "      <td>-</td>\n",
              "      <td>-</td>\n",
              "      <td>-</td>\n",
              "      <td>-</td>\n",
              "      <td>-</td>\n",
              "      <td>89.9</td>\n",
              "      <td>90.1</td>\n",
              "      <td>89.6</td>\n",
              "      <td>-</td>\n",
              "      <td>-</td>\n",
              "      <td>-</td>\n",
              "      <td>-</td>\n",
              "      <td>-</td>\n",
              "      <td>-</td>\n",
              "      <td>-</td>\n",
              "      <td>-</td>\n",
              "      <td>-</td>\n",
              "      <td>6.5</td>\n",
              "      <td>6.5</td>\n",
              "      <td>6.5</td>\n",
              "      <td>490.5</td>\n",
              "      <td>493.0</td>\n",
              "      <td>485.0</td>\n",
              "      <td>-</td>\n",
              "      <td>-</td>\n",
              "      <td>-</td>\n",
              "      <td>-</td>\n",
              "      <td>-</td>\n",
              "      <td>-</td>\n",
              "      <td>-</td>\n",
              "      <td>-</td>\n",
              "      <td>-</td>\n",
              "      <td>-</td>\n",
              "      <td>-</td>\n",
              "      <td>-</td>\n",
              "      <td>-</td>\n",
              "      <td>-</td>\n",
              "      <td>-</td>\n",
              "      <td>-</td>\n",
              "      <td>-</td>\n",
              "      <td>-</td>\n",
              "      <td>-</td>\n",
              "      <td>-</td>\n",
              "      <td>-</td>\n",
              "    </tr>\n",
              "    <tr>\n",
              "      <th>586</th>\n",
              "      <td>2021-11-24 08:40:00</td>\n",
              "      <td>8.5</td>\n",
              "      <td>8.6</td>\n",
              "      <td>8.4</td>\n",
              "      <td>-</td>\n",
              "      <td>-</td>\n",
              "      <td>-</td>\n",
              "      <td>-</td>\n",
              "      <td>-</td>\n",
              "      <td>-</td>\n",
              "      <td>-</td>\n",
              "      <td>-</td>\n",
              "      <td>-</td>\n",
              "      <td>85.5</td>\n",
              "      <td>85.8</td>\n",
              "      <td>85.3</td>\n",
              "      <td>-</td>\n",
              "      <td>-</td>\n",
              "      <td>-</td>\n",
              "      <td>-</td>\n",
              "      <td>-</td>\n",
              "      <td>-</td>\n",
              "      <td>-</td>\n",
              "      <td>-</td>\n",
              "      <td>-</td>\n",
              "      <td>6.4</td>\n",
              "      <td>6.8</td>\n",
              "      <td>5.8</td>\n",
              "      <td>-</td>\n",
              "      <td>-</td>\n",
              "      <td>-</td>\n",
              "      <td>-</td>\n",
              "      <td>-</td>\n",
              "      <td>-</td>\n",
              "      <td>-</td>\n",
              "      <td>-</td>\n",
              "      <td>-</td>\n",
              "      <td>-</td>\n",
              "      <td>-</td>\n",
              "      <td>-</td>\n",
              "      <td>-</td>\n",
              "      <td>-</td>\n",
              "      <td>-</td>\n",
              "      <td>-</td>\n",
              "      <td>-</td>\n",
              "      <td>-</td>\n",
              "      <td>-</td>\n",
              "      <td>-</td>\n",
              "      <td>-</td>\n",
              "      <td>-</td>\n",
              "      <td>-</td>\n",
              "      <td>-</td>\n",
              "    </tr>\n",
              "    <tr>\n",
              "      <th>587</th>\n",
              "      <td>2021-11-24 08:40:00</td>\n",
              "      <td>7.8</td>\n",
              "      <td>7.9</td>\n",
              "      <td>7.6</td>\n",
              "      <td>-</td>\n",
              "      <td>-</td>\n",
              "      <td>-</td>\n",
              "      <td>-</td>\n",
              "      <td>-</td>\n",
              "      <td>-</td>\n",
              "      <td>-</td>\n",
              "      <td>-</td>\n",
              "      <td>-</td>\n",
              "      <td>90.1</td>\n",
              "      <td>90.3</td>\n",
              "      <td>89.8</td>\n",
              "      <td>-</td>\n",
              "      <td>-</td>\n",
              "      <td>-</td>\n",
              "      <td>-</td>\n",
              "      <td>-</td>\n",
              "      <td>-</td>\n",
              "      <td>-</td>\n",
              "      <td>-</td>\n",
              "      <td>-</td>\n",
              "      <td>6.5</td>\n",
              "      <td>6.5</td>\n",
              "      <td>6.5</td>\n",
              "      <td>495.2</td>\n",
              "      <td>500.0</td>\n",
              "      <td>491.0</td>\n",
              "      <td>-</td>\n",
              "      <td>-</td>\n",
              "      <td>-</td>\n",
              "      <td>-</td>\n",
              "      <td>-</td>\n",
              "      <td>-</td>\n",
              "      <td>-</td>\n",
              "      <td>-</td>\n",
              "      <td>-</td>\n",
              "      <td>-</td>\n",
              "      <td>-</td>\n",
              "      <td>-</td>\n",
              "      <td>-</td>\n",
              "      <td>-</td>\n",
              "      <td>-</td>\n",
              "      <td>-</td>\n",
              "      <td>-</td>\n",
              "      <td>-</td>\n",
              "      <td>-</td>\n",
              "      <td>-</td>\n",
              "      <td>-</td>\n",
              "    </tr>\n",
              "  </tbody>\n",
              "</table>\n",
              "<p>588 rows × 52 columns</p>\n",
              "</div>\n",
              "      <button class=\"colab-df-convert\" onclick=\"convertToInteractive('df-028bcd0d-3f03-4bba-8979-054444cfc32f')\"\n",
              "              title=\"Convert this dataframe to an interactive table.\"\n",
              "              style=\"display:none;\">\n",
              "        \n",
              "  <svg xmlns=\"http://www.w3.org/2000/svg\" height=\"24px\"viewBox=\"0 0 24 24\"\n",
              "       width=\"24px\">\n",
              "    <path d=\"M0 0h24v24H0V0z\" fill=\"none\"/>\n",
              "    <path d=\"M18.56 5.44l.94 2.06.94-2.06 2.06-.94-2.06-.94-.94-2.06-.94 2.06-2.06.94zm-11 1L8.5 8.5l.94-2.06 2.06-.94-2.06-.94L8.5 2.5l-.94 2.06-2.06.94zm10 10l.94 2.06.94-2.06 2.06-.94-2.06-.94-.94-2.06-.94 2.06-2.06.94z\"/><path d=\"M17.41 7.96l-1.37-1.37c-.4-.4-.92-.59-1.43-.59-.52 0-1.04.2-1.43.59L10.3 9.45l-7.72 7.72c-.78.78-.78 2.05 0 2.83L4 21.41c.39.39.9.59 1.41.59.51 0 1.02-.2 1.41-.59l7.78-7.78 2.81-2.81c.8-.78.8-2.07 0-2.86zM5.41 20L4 18.59l7.72-7.72 1.47 1.35L5.41 20z\"/>\n",
              "  </svg>\n",
              "      </button>\n",
              "      \n",
              "  <style>\n",
              "    .colab-df-container {\n",
              "      display:flex;\n",
              "      flex-wrap:wrap;\n",
              "      gap: 12px;\n",
              "    }\n",
              "\n",
              "    .colab-df-convert {\n",
              "      background-color: #E8F0FE;\n",
              "      border: none;\n",
              "      border-radius: 50%;\n",
              "      cursor: pointer;\n",
              "      display: none;\n",
              "      fill: #1967D2;\n",
              "      height: 32px;\n",
              "      padding: 0 0 0 0;\n",
              "      width: 32px;\n",
              "    }\n",
              "\n",
              "    .colab-df-convert:hover {\n",
              "      background-color: #E2EBFA;\n",
              "      box-shadow: 0px 1px 2px rgba(60, 64, 67, 0.3), 0px 1px 3px 1px rgba(60, 64, 67, 0.15);\n",
              "      fill: #174EA6;\n",
              "    }\n",
              "\n",
              "    [theme=dark] .colab-df-convert {\n",
              "      background-color: #3B4455;\n",
              "      fill: #D2E3FC;\n",
              "    }\n",
              "\n",
              "    [theme=dark] .colab-df-convert:hover {\n",
              "      background-color: #434B5C;\n",
              "      box-shadow: 0px 1px 3px 1px rgba(0, 0, 0, 0.15);\n",
              "      filter: drop-shadow(0px 1px 2px rgba(0, 0, 0, 0.3));\n",
              "      fill: #FFFFFF;\n",
              "    }\n",
              "  </style>\n",
              "\n",
              "      <script>\n",
              "        const buttonEl =\n",
              "          document.querySelector('#df-028bcd0d-3f03-4bba-8979-054444cfc32f button.colab-df-convert');\n",
              "        buttonEl.style.display =\n",
              "          google.colab.kernel.accessAllowed ? 'block' : 'none';\n",
              "\n",
              "        async function convertToInteractive(key) {\n",
              "          const element = document.querySelector('#df-028bcd0d-3f03-4bba-8979-054444cfc32f');\n",
              "          const dataTable =\n",
              "            await google.colab.kernel.invokeFunction('convertToInteractive',\n",
              "                                                     [key], {});\n",
              "          if (!dataTable) return;\n",
              "\n",
              "          const docLinkHtml = 'Like what you see? Visit the ' +\n",
              "            '<a target=\"_blank\" href=https://colab.research.google.com/notebooks/data_table.ipynb>data table notebook</a>'\n",
              "            + ' to learn more about interactive tables.';\n",
              "          element.innerHTML = '';\n",
              "          dataTable['output_type'] = 'display_data';\n",
              "          await google.colab.output.renderOutput(dataTable, element);\n",
              "          const docLink = document.createElement('div');\n",
              "          docLink.innerHTML = docLinkHtml;\n",
              "          element.appendChild(docLink);\n",
              "        }\n",
              "      </script>\n",
              "    </div>\n",
              "  </div>\n",
              "  "
            ],
            "text/plain": [
              "                    측정시각  내부 온도 1 평균  내부 온도 1 최고  ...  외부 누적일사 평균 양액 급액 누적 양액 배액 누적\n",
              "0    2021-11-26 09:30:00         9.0         9.6  ...           -        -        -\n",
              "1    2021-11-26 09:30:00         8.7         9.3  ...           -        -        -\n",
              "2    2021-11-26 09:20:00         7.9         8.4  ...           -        -        -\n",
              "3    2021-11-26 09:20:00         7.4         7.9  ...           -        -        -\n",
              "4    2021-11-26 09:10:00         6.9         7.2  ...           -        -        -\n",
              "..                   ...         ...         ...  ...         ...      ...      ...\n",
              "583  2021-11-24 09:00:00         8.7         8.9  ...           -        -        -\n",
              "584  2021-11-24 08:50:00         8.8         9.0  ...           -        -        -\n",
              "585  2021-11-24 08:50:00         8.2         8.4  ...           -        -        -\n",
              "586  2021-11-24 08:40:00         8.5         8.6  ...           -        -        -\n",
              "587  2021-11-24 08:40:00         7.8         7.9  ...           -        -        -\n",
              "\n",
              "[588 rows x 52 columns]"
            ]
          },
          "metadata": {},
          "execution_count": 26
        }
      ]
    },
    {
      "cell_type": "code",
      "source": [
        "temp_csv.isnull().sum()"
      ],
      "metadata": {
        "colab": {
          "base_uri": "https://localhost:8080/"
        },
        "id": "D9Sc77OFrClw",
        "outputId": "df8325f0-60cb-4416-a34d-144cc9c6fa8e"
      },
      "execution_count": null,
      "outputs": [
        {
          "output_type": "execute_result",
          "data": {
            "text/plain": [
              "측정시각          0\n",
              "내부 온도 1 평균    0\n",
              "내부 온도 1 최고    0\n",
              "내부 온도 1 최저    0\n",
              "내부 온도 2 평균    0\n",
              "내부 온도 2 최고    0\n",
              "내부 온도 2 최저    0\n",
              "내부 온도 3 평균    0\n",
              "내부 온도 3 최고    0\n",
              "내부 온도 3 최저    0\n",
              "내부 온도 4 평균    0\n",
              "내부 온도 4 최고    0\n",
              "내부 온도 4 최저    0\n",
              "내부 습도 1 평균    0\n",
              "내부 습도 1 최고    0\n",
              "내부 습도 1 최저    0\n",
              "내부 습도 2 평균    0\n",
              "내부 습도 2 최고    0\n",
              "내부 습도 2 최저    0\n",
              "내부 습도 3 평균    0\n",
              "내부 습도 3 최고    0\n",
              "내부 습도 3 최저    0\n",
              "내부 습도 4 평균    0\n",
              "내부 습도 4 최고    0\n",
              "내부 습도 4 최저    0\n",
              "내부 이슬점 평균     0\n",
              "내부 이슬점 최고     0\n",
              "내부 이슬점 최저     0\n",
              "내부 CO2 평균     0\n",
              "내부 CO2 최고     0\n",
              "내부 CO2 최저     0\n",
              "외부 풍속 평균      0\n",
              "외부 풍속 최고      0\n",
              "외부 풍속 최저      0\n",
              "내부 EC 1 평균    0\n",
              "내부 EC 1 최고    0\n",
              "내부 EC 1 최저    0\n",
              "내부 PH 1 평균    0\n",
              "내부 PH 1 최고    0\n",
              "내부 PH 1 최저    0\n",
              "배지 중량 평균      0\n",
              "배지 중량 최고      0\n",
              "배지 중량 최저      0\n",
              "양액 온도 평균      0\n",
              "양액 온도 최고      0\n",
              "양액 온도 최저      0\n",
              "외부 풍향 수치      0\n",
              "외부 풍향         0\n",
              "외부 빗물 시간      0\n",
              "외부 누적일사 평균    0\n",
              "양액 급액 누적      0\n",
              "양액 배액 누적      0\n",
              "dtype: int64"
            ]
          },
          "metadata": {},
          "execution_count": 27
        }
      ]
    },
    {
      "cell_type": "code",
      "source": [
        "csv_features = ['내부 온도 1 평균', '내부 습도 1 평균', '내부 이슬점 평균']\n",
        "\n",
        "temp_csv = pd.read_csv(csv_files[0])[csv_features]"
      ],
      "metadata": {
        "id": "P7-J2R7LPYeU"
      },
      "execution_count": null,
      "outputs": []
    },
    {
      "cell_type": "code",
      "source": [
        "temp_csv"
      ],
      "metadata": {
        "colab": {
          "base_uri": "https://localhost:8080/",
          "height": 424
        },
        "id": "N1Y0xupwTBa4",
        "outputId": "2def57c7-f621-4619-bced-3db605952b26"
      },
      "execution_count": null,
      "outputs": [
        {
          "output_type": "execute_result",
          "data": {
            "text/html": [
              "\n",
              "  <div id=\"df-564fe0ec-9ff6-45fe-9e20-8765204d6b37\">\n",
              "    <div class=\"colab-df-container\">\n",
              "      <div>\n",
              "<style scoped>\n",
              "    .dataframe tbody tr th:only-of-type {\n",
              "        vertical-align: middle;\n",
              "    }\n",
              "\n",
              "    .dataframe tbody tr th {\n",
              "        vertical-align: top;\n",
              "    }\n",
              "\n",
              "    .dataframe thead th {\n",
              "        text-align: right;\n",
              "    }\n",
              "</style>\n",
              "<table border=\"1\" class=\"dataframe\">\n",
              "  <thead>\n",
              "    <tr style=\"text-align: right;\">\n",
              "      <th></th>\n",
              "      <th>내부 온도 1 평균</th>\n",
              "      <th>내부 습도 1 평균</th>\n",
              "      <th>내부 이슬점 평균</th>\n",
              "    </tr>\n",
              "  </thead>\n",
              "  <tbody>\n",
              "    <tr>\n",
              "      <th>0</th>\n",
              "      <td>9.0</td>\n",
              "      <td>81.5</td>\n",
              "      <td>6.1</td>\n",
              "    </tr>\n",
              "    <tr>\n",
              "      <th>1</th>\n",
              "      <td>8.7</td>\n",
              "      <td>85.4</td>\n",
              "      <td>6.3</td>\n",
              "    </tr>\n",
              "    <tr>\n",
              "      <th>2</th>\n",
              "      <td>7.9</td>\n",
              "      <td>81.9</td>\n",
              "      <td>5.0</td>\n",
              "    </tr>\n",
              "    <tr>\n",
              "      <th>3</th>\n",
              "      <td>7.4</td>\n",
              "      <td>86.9</td>\n",
              "      <td>5.4</td>\n",
              "    </tr>\n",
              "    <tr>\n",
              "      <th>4</th>\n",
              "      <td>6.9</td>\n",
              "      <td>83.3</td>\n",
              "      <td>4.4</td>\n",
              "    </tr>\n",
              "    <tr>\n",
              "      <th>...</th>\n",
              "      <td>...</td>\n",
              "      <td>...</td>\n",
              "      <td>...</td>\n",
              "    </tr>\n",
              "    <tr>\n",
              "      <th>583</th>\n",
              "      <td>8.7</td>\n",
              "      <td>89.7</td>\n",
              "      <td>7.3</td>\n",
              "    </tr>\n",
              "    <tr>\n",
              "      <th>584</th>\n",
              "      <td>8.8</td>\n",
              "      <td>85.3</td>\n",
              "      <td>6.6</td>\n",
              "    </tr>\n",
              "    <tr>\n",
              "      <th>585</th>\n",
              "      <td>8.2</td>\n",
              "      <td>89.9</td>\n",
              "      <td>6.5</td>\n",
              "    </tr>\n",
              "    <tr>\n",
              "      <th>586</th>\n",
              "      <td>8.5</td>\n",
              "      <td>85.5</td>\n",
              "      <td>6.4</td>\n",
              "    </tr>\n",
              "    <tr>\n",
              "      <th>587</th>\n",
              "      <td>7.8</td>\n",
              "      <td>90.1</td>\n",
              "      <td>6.5</td>\n",
              "    </tr>\n",
              "  </tbody>\n",
              "</table>\n",
              "<p>588 rows × 3 columns</p>\n",
              "</div>\n",
              "      <button class=\"colab-df-convert\" onclick=\"convertToInteractive('df-564fe0ec-9ff6-45fe-9e20-8765204d6b37')\"\n",
              "              title=\"Convert this dataframe to an interactive table.\"\n",
              "              style=\"display:none;\">\n",
              "        \n",
              "  <svg xmlns=\"http://www.w3.org/2000/svg\" height=\"24px\"viewBox=\"0 0 24 24\"\n",
              "       width=\"24px\">\n",
              "    <path d=\"M0 0h24v24H0V0z\" fill=\"none\"/>\n",
              "    <path d=\"M18.56 5.44l.94 2.06.94-2.06 2.06-.94-2.06-.94-.94-2.06-.94 2.06-2.06.94zm-11 1L8.5 8.5l.94-2.06 2.06-.94-2.06-.94L8.5 2.5l-.94 2.06-2.06.94zm10 10l.94 2.06.94-2.06 2.06-.94-2.06-.94-.94-2.06-.94 2.06-2.06.94z\"/><path d=\"M17.41 7.96l-1.37-1.37c-.4-.4-.92-.59-1.43-.59-.52 0-1.04.2-1.43.59L10.3 9.45l-7.72 7.72c-.78.78-.78 2.05 0 2.83L4 21.41c.39.39.9.59 1.41.59.51 0 1.02-.2 1.41-.59l7.78-7.78 2.81-2.81c.8-.78.8-2.07 0-2.86zM5.41 20L4 18.59l7.72-7.72 1.47 1.35L5.41 20z\"/>\n",
              "  </svg>\n",
              "      </button>\n",
              "      \n",
              "  <style>\n",
              "    .colab-df-container {\n",
              "      display:flex;\n",
              "      flex-wrap:wrap;\n",
              "      gap: 12px;\n",
              "    }\n",
              "\n",
              "    .colab-df-convert {\n",
              "      background-color: #E8F0FE;\n",
              "      border: none;\n",
              "      border-radius: 50%;\n",
              "      cursor: pointer;\n",
              "      display: none;\n",
              "      fill: #1967D2;\n",
              "      height: 32px;\n",
              "      padding: 0 0 0 0;\n",
              "      width: 32px;\n",
              "    }\n",
              "\n",
              "    .colab-df-convert:hover {\n",
              "      background-color: #E2EBFA;\n",
              "      box-shadow: 0px 1px 2px rgba(60, 64, 67, 0.3), 0px 1px 3px 1px rgba(60, 64, 67, 0.15);\n",
              "      fill: #174EA6;\n",
              "    }\n",
              "\n",
              "    [theme=dark] .colab-df-convert {\n",
              "      background-color: #3B4455;\n",
              "      fill: #D2E3FC;\n",
              "    }\n",
              "\n",
              "    [theme=dark] .colab-df-convert:hover {\n",
              "      background-color: #434B5C;\n",
              "      box-shadow: 0px 1px 3px 1px rgba(0, 0, 0, 0.15);\n",
              "      filter: drop-shadow(0px 1px 2px rgba(0, 0, 0, 0.3));\n",
              "      fill: #FFFFFF;\n",
              "    }\n",
              "  </style>\n",
              "\n",
              "      <script>\n",
              "        const buttonEl =\n",
              "          document.querySelector('#df-564fe0ec-9ff6-45fe-9e20-8765204d6b37 button.colab-df-convert');\n",
              "        buttonEl.style.display =\n",
              "          google.colab.kernel.accessAllowed ? 'block' : 'none';\n",
              "\n",
              "        async function convertToInteractive(key) {\n",
              "          const element = document.querySelector('#df-564fe0ec-9ff6-45fe-9e20-8765204d6b37');\n",
              "          const dataTable =\n",
              "            await google.colab.kernel.invokeFunction('convertToInteractive',\n",
              "                                                     [key], {});\n",
              "          if (!dataTable) return;\n",
              "\n",
              "          const docLinkHtml = 'Like what you see? Visit the ' +\n",
              "            '<a target=\"_blank\" href=https://colab.research.google.com/notebooks/data_table.ipynb>data table notebook</a>'\n",
              "            + ' to learn more about interactive tables.';\n",
              "          element.innerHTML = '';\n",
              "          dataTable['output_type'] = 'display_data';\n",
              "          await google.colab.output.renderOutput(dataTable, element);\n",
              "          const docLink = document.createElement('div');\n",
              "          docLink.innerHTML = docLinkHtml;\n",
              "          element.appendChild(docLink);\n",
              "        }\n",
              "      </script>\n",
              "    </div>\n",
              "  </div>\n",
              "  "
            ],
            "text/plain": [
              "     내부 온도 1 평균  내부 습도 1 평균  내부 이슬점 평균\n",
              "0           9.0        81.5        6.1\n",
              "1           8.7        85.4        6.3\n",
              "2           7.9        81.9        5.0\n",
              "3           7.4        86.9        5.4\n",
              "4           6.9        83.3        4.4\n",
              "..          ...         ...        ...\n",
              "583         8.7        89.7        7.3\n",
              "584         8.8        85.3        6.6\n",
              "585         8.2        89.9        6.5\n",
              "586         8.5        85.5        6.4\n",
              "587         7.8        90.1        6.5\n",
              "\n",
              "[588 rows x 3 columns]"
            ]
          },
          "metadata": {},
          "execution_count": 11
        }
      ]
    },
    {
      "cell_type": "code",
      "source": [
        "temp_csv.iloc[:,1]"
      ],
      "metadata": {
        "colab": {
          "base_uri": "https://localhost:8080/"
        },
        "id": "7xdrfg1UUjgU",
        "outputId": "eff61a78-a96d-429c-a18f-1beb84f5a210"
      },
      "execution_count": null,
      "outputs": [
        {
          "output_type": "execute_result",
          "data": {
            "text/plain": [
              "0      9.6\n",
              "1      9.3\n",
              "2      8.4\n",
              "3      7.9\n",
              "4      7.2\n",
              "      ... \n",
              "583    8.9\n",
              "584    9.0\n",
              "585    8.4\n",
              "586    8.6\n",
              "587    7.9\n",
              "Name: 내부 온도 1 최고, Length: 588, dtype: float64"
            ]
          },
          "metadata": {},
          "execution_count": 6
        }
      ]
    },
    {
      "cell_type": "markdown",
      "source": [
        "각 column 값들이 시간에 따라 어떻게 변하는 지 그려봅시다."
      ],
      "metadata": {
        "id": "HfKGvecvyWtX"
      }
    },
    {
      "cell_type": "code",
      "source": [
        "a = temp_csv.iloc[:,1].to_numpy()\n",
        "a"
      ],
      "metadata": {
        "colab": {
          "base_uri": "https://localhost:8080/"
        },
        "id": "SyRBJW7ZToql",
        "outputId": "55bb3342-6322-4ecf-8c88-8b84f968d7ee"
      },
      "execution_count": null,
      "outputs": [
        {
          "output_type": "execute_result",
          "data": {
            "text/plain": [
              "array([ 9.6,  9.3,  8.4,  7.9,  7.2,  6.8,  6.6,  6. ,  5.5,  6.1,  5.8,\n",
              "        5.2,  5.1,  5.8,  5.2,  5.9,  5.8,  5.2,  5.1,  5.7,  5.7,  5. ,\n",
              "        5.6,  5. ,  5.7,  5. ,  5. ,  5.7,  5.7,  5.1,  5.8,  5.1,  5.1,\n",
              "        5.8,  5.9,  5.2,  5.9,  5.2,  5.2,  6. ,  6.1,  5.3,  6.2,  5.4,\n",
              "        5.4,  6.2,  6.3,  5.5,  6.3,  5.5,  5.6,  6.4,  6.5,  5.6,  6.5,\n",
              "        5.7,  5.8,  6.5,  6.6,  5.8,  6.6,  5.8,  5.8,  6.6,  6.6,  5.9,\n",
              "        6.7,  5.9,  5.9,  6.7,  6.7,  5.9,  5.9,  6.8,  6.8,  6. ,  6.9,\n",
              "        6.1,  6.1,  6.9,  7. ,  6.1,  7. ,  6.2,  7.1,  6.3,  6.3,  7.2,\n",
              "        7.2,  6.4,  6.4,  7.2,  7.3,  6.4,  6.5,  7.3,  7.3,  6.6,  7.4,\n",
              "        6.6,  6.6,  7.4,  7.4,  6.6,  7.5,  6.7,  6.8,  7.6,  7.6,  6.8,\n",
              "        7.7,  6.9,  7. ,  7.8,  7.9,  7.1,  7.9,  7.1,  7.2,  8. ,  8.1,\n",
              "        7.3,  8.2,  7.3,  7.4,  8.2,  8.3,  7.6,  8.4,  7.6,  8.4,  7.6,\n",
              "        8.5,  7.7,  8.5,  7.8,  7.8,  8.6,  8.6,  7.9,  7.9,  8.7,  8.1,\n",
              "        8.8,  8.9,  8.1,  8.2,  9. ,  9. ,  8.3,  9.1,  8.4,  8.4,  9.2,\n",
              "        9.3,  8.5,  8.6,  9.4,  9.5,  8.8,  9.6,  8.9,  9. ,  9.8,  9.9,\n",
              "        9.1,  9.3, 10.1, 10.2,  9.4, 10.4,  9.6,  9.8, 10.6, 10.7,  9.9,\n",
              "       10.1, 10.9, 11.1, 10.3, 11.3, 10.6, 11.6, 10.8, 11.1, 11.9, 12.2,\n",
              "       11.4, 12.5, 11.7, 12. , 12.8, 13.2, 12.4, 12.7, 13.5, 13.7, 12.9,\n",
              "       13.9, 13.1, 13.9, 13.1, 13.1, 13.8, 13.7, 12.9, 13.5, 12.4, 13.4,\n",
              "       14.3, 14.6, 13.9, 14. , 14.8, 15. , 13.9, 15. , 14. , 15.1, 14.2,\n",
              "       15.2, 14.3, 15.5, 14.4, 15.8, 14.8, 14.8, 16. , 16.4, 15.3, 15.4,\n",
              "       16.5, 16.7, 15.5, 17. , 15.8, 17.4, 15.9, 16.5, 17.9, 18.4, 17.2,\n",
              "       18.4, 17.1, 16.9, 18.2, 18. , 16.9, 17.3, 18.4, 18.7, 17.8, 18.6,\n",
              "       17.8, 18.3, 17.2, 16.3, 17.7, 17.5, 16.2, 17.4, 16. , 16.1, 17.3,\n",
              "       17. , 16.1, 15.8, 16.6, 16. , 15.3, 15.4, 14.6, 14.8, 14. , 13.9,\n",
              "       14.6, 14.3, 13.5, 13.8, 13.1, 13.2, 13.7, 13.6, 13. , 12.9, 13.4,\n",
              "       13.7, 13.5, 12.9, 12.7, 11.9, 11.5, 10.9, 10.4, 10.1,  9.7,  9.7,\n",
              "        9.1,  8.6,  9.3,  9.1,  8.3,  9. ,  8.3,  8.2,  9. ,  8.9,  8.1,\n",
              "        8.9,  8.1,  8.1,  8.9,  9. ,  8.2,  9.2,  8.4,  8.4,  9.3,  9.5,\n",
              "        8.6,  9.7,  8.8,  8.9,  9.8, 10. ,  9.1, 10.1,  9.3,  9.3, 10.2,\n",
              "       10.2,  9.4, 10.2,  9.3,  9.3, 10.1, 10.1,  9.3,  9.3, 10.1, 10. ,\n",
              "        9.3, 10. ,  9.2,  9.2, 10. , 10. ,  9.2,  9.9,  9.1,  9.1,  9.9,\n",
              "        9.8,  9. ,  9.7,  8.9,  8.9,  9.6,  9.5,  8.6,  9.4,  8.6,  8.5,\n",
              "        9.3,  9.3,  8.5,  8.4,  9.2,  8.4,  9.2,  9.2,  8.4,  9.2,  8.4,\n",
              "        8.4,  9.1,  9. ,  8.3,  9. ,  8.3,  8.1,  8.8,  8.7,  7.9,  7.8,\n",
              "        8.5,  8.4,  7.6,  8.2,  7.5,  7.4,  8.2,  8.1,  7.3,  8.1,  7.3,\n",
              "        7.3,  8.1,  8.1,  7.3,  8.1,  7.3,  7.4,  8.1,  8.2,  7.4,  8.2,\n",
              "        7.4,  7.4,  8.2,  8.2,  7.5,  8.3,  7.6,  7.6,  8.3,  8.4,  7.6,\n",
              "        8.4,  7.6,  7.7,  8.4,  8.5,  7.7,  8.5,  7.8,  7.8,  8.6,  8.7,\n",
              "        7.9,  8. ,  8.7,  8.8,  8.1,  8.9,  8.1,  8.3,  9. ,  9.1,  8.3,\n",
              "        9.1,  8.4,  8.4,  9.2,  9.2,  8.4,  9.3,  8.6,  8.6,  9.4,  9.5,\n",
              "        8.7,  8.8,  9.6,  9.7,  8.9,  9.8,  9. ,  9.1,  9.9, 10. ,  9.2,\n",
              "       10.2,  9.3,  9.6, 10.3, 10.5,  9.7, 10.8, 10. , 10.2, 11. , 11.3,\n",
              "       10.4, 11.6, 10.8, 11.9, 11.1, 12.3, 11.5, 12.7, 11.9, 13.2, 12.3,\n",
              "       12.6, 13.5, 13.8, 12.9, 13.9, 13.1, 13.3, 14.2, 14.6, 13.7, 14.9,\n",
              "       14.1, 15.2, 14.5, 14.6, 15.3, 15.3, 14.7, 15. , 14.4, 14.1, 14.6,\n",
              "       14.3, 13.8, 14.1, 13.4, 13.9, 13.3, 13.3, 14.1, 14.2, 13.6, 14.3,\n",
              "       13.6, 13.4, 14.2, 14.2, 13.3, 14.4, 13.3, 14.9, 13.8, 14.3, 15.4,\n",
              "       15.5, 14.4, 15.9, 14.8, 15.1, 16.3, 16.7, 15.5, 17.2, 16.1, 17.6,\n",
              "       16.8, 17.3, 17.9, 17.9, 17.3, 16.9, 16.4, 15.5, 16.2, 15.1, 14.4,\n",
              "       14.3, 14.9, 14.6, 13.9, 14.3, 13.6, 13.1, 13.9, 13.6, 12.7, 13.8,\n",
              "       14.3, 14.4, 14. , 13.9, 13.5, 12.5, 13.1, 12.7, 12.1, 11.9, 12.4,\n",
              "       12. , 11.5, 11.3, 10.8, 10.7, 10.1, 10.1,  9.6,  9.9,  9.4,  9.5,\n",
              "        8.9,  9. ,  8.4,  8.6,  7.9])"
            ]
          },
          "metadata": {},
          "execution_count": 7
        }
      ]
    },
    {
      "cell_type": "code",
      "source": [
        "xarr = np.arange(len(temp_csv))\n",
        "for i in range(len(temp_csv.columns)):\n",
        "  yarr = temp_csv.iloc[:,i].to_numpy()\n",
        "  plt.plot(xarr,yarr)\n",
        "plt.show()"
      ],
      "metadata": {
        "colab": {
          "base_uri": "https://localhost:8080/",
          "height": 265
        },
        "id": "mFHzfrJ_TEvA",
        "outputId": "ca6d99d8-500b-427b-fc4c-ad45c5029427"
      },
      "execution_count": null,
      "outputs": [
        {
          "output_type": "display_data",
          "data": {
            "image/png": "[encoded data removed]",
            "text/plain": [
              "<Figure size 432x288 with 1 Axes>"
            ]
          },
          "metadata": {
            "needs_background": "light"
          }
        }
      ]
    },
    {
      "cell_type": "code",
      "source": [
        "xarr = np.arange(100)\n",
        "for i in range(9):\n",
        "  yarr = temp_csv.iloc[0:100,i]\n",
        "  plt.plot(xarr, yarr)\n",
        "plt.show()"
      ],
      "metadata": {
        "colab": {
          "base_uri": "https://localhost:8080/",
          "height": 265
        },
        "id": "euqBJWDyVRyM",
        "outputId": "c9e43108-3fc7-4c71-df03-4683ae620586"
      },
      "execution_count": null,
      "outputs": [
        {
          "output_type": "display_data",
          "data": {
            "image/png": "[encoded data removed]",
            "text/plain": [
              "<Figure size 432x288 with 1 Axes>"
            ]
          },
          "metadata": {
            "needs_background": "light"
          }
        }
      ]
    },
    {
      "cell_type": "code",
      "source": [
        "csv_features = ['내부 온도 1 평균', '내부 습도 1 평균', '내부 이슬점 평균']\n",
        "\n",
        "temp_csv = pd.read_csv(csv_files[0])[csv_features]"
      ],
      "metadata": {
        "id": "v2aiuu6zWTab"
      },
      "execution_count": null,
      "outputs": []
    },
    {
      "cell_type": "code",
      "source": [
        "xarr = np.arange(len(temp_csv))\n",
        "name_list = ['temperature', 'humidity', 'dew point']\n",
        "for i in range(3):\n",
        "  yarr = temp_csv.iloc[:,i]\n",
        "  plt.plot(xarr, yarr, label = name_list[i])\n",
        "\n",
        "plt.legend()"
      ],
      "metadata": {
        "colab": {
          "base_uri": "https://localhost:8080/",
          "height": 282
        },
        "id": "FSWj8J2QWTc6",
        "outputId": "2104f8c7-f4c3-40b1-d0c4-0c8ccd1a3a80"
      },
      "execution_count": null,
      "outputs": [
        {
          "output_type": "execute_result",
          "data": {
            "text/plain": [
              "<matplotlib.legend.Legend at 0x7f7bec26d8d0>"
            ]
          },
          "metadata": {},
          "execution_count": 12
        },
        {
          "output_type": "display_data",
          "data": {
            "image/png": "[encoded data removed]",
            "text/plain": [
              "<Figure size 432x288 with 1 Axes>"
            ]
          },
          "metadata": {
            "needs_background": "light"
          }
        }
      ]
    },
    {
      "cell_type": "code",
      "source": [
        ""
      ],
      "metadata": {
        "id": "I9OK-FhVWTfm"
      },
      "execution_count": null,
      "outputs": []
    },
    {
      "cell_type": "code",
      "source": [
        "for j in range(1,5):\n",
        "  temp_csv = pd.read_csv(csv_files[j])[csv_features]\n",
        "  xarr = np.arange(len(temp_csv))\n",
        "  for i in range(3):\n",
        "    yarr = temp_csv.iloc[:,i]\n",
        "    plt.plot(xarr, yarr)\n",
        "\n",
        "plt.legend()"
      ],
      "metadata": {
        "colab": {
          "base_uri": "https://localhost:8080/",
          "height": 300
        },
        "id": "gB7zSdbrWTim",
        "outputId": "38651844-c80f-43ec-fbcc-44377c2695ff"
      },
      "execution_count": null,
      "outputs": [
        {
          "output_type": "stream",
          "name": "stderr",
          "text": [
            "No handles with labels found to put in legend.\n"
          ]
        },
        {
          "output_type": "execute_result",
          "data": {
            "text/plain": [
              "<matplotlib.legend.Legend at 0x7f7bec887150>"
            ]
          },
          "metadata": {},
          "execution_count": 13
        },
        {
          "output_type": "display_data",
          "data": {
            "image/png": "[encoded data removed]",
            "text/plain": [
              "<Figure size 432x288 with 1 Axes>"
            ]
          },
          "metadata": {
            "needs_background": "light"
          }
        }
      ]
    },
    {
      "cell_type": "markdown",
      "source": [
        "decision tree를 만드려고 했다.\n",
        "\n",
        "그래서 특정 온도 이상인 점이 몇개 이상이면~ 이런식으로 기준을 만들면 좋지 않을까 했다.\n",
        "\n",
        "하지만 대회 제출 시간이 부족해서 그러지는 못했다."
      ],
      "metadata": {
        "id": "7HxnhszJymjD"
      }
    },
    {
      "cell_type": "code",
      "source": [
        "from scipy.optimize import curve_fit\n",
        "def sin_fn(x,a,b,c,d):\n",
        "  return a*np.sin(b*x) + d +c"
      ],
      "metadata": {
        "id": "uFTRlFGOa2oo"
      },
      "execution_count": null,
      "outputs": []
    },
    {
      "cell_type": "code",
      "source": [
        "popt, pcov = curve_fit(sin_fn, xarr, yarr)"
      ],
      "metadata": {
        "id": "6wZ1_CflbblP"
      },
      "execution_count": null,
      "outputs": []
    },
    {
      "cell_type": "code",
      "source": [
        "plt.scatter(xarr,yarr)\n",
        "plt.plot(xarr, sin_fn(xarr,2,np.pi/60,0,18))\n",
        "plt.plot(xarr,sin_fn(xarr,*popt))\n",
        "plt.show()"
      ],
      "metadata": {
        "colab": {
          "base_uri": "https://localhost:8080/",
          "height": 267
        },
        "id": "uXUF1TBibzS_",
        "outputId": "4749d69a-ab8e-4f5d-94dd-18ddbca475ca"
      },
      "execution_count": null,
      "outputs": [
        {
          "output_type": "display_data",
          "data": {
            "image/png": "[encoded data removed]",
            "text/plain": [
              "<Figure size 432x288 with 1 Axes>"
            ]
          },
          "metadata": {
            "needs_background": "light"
          }
        }
      ]
    },
    {
      "cell_type": "markdown",
      "source": [
        "아래 그림은,, 모델을 다돌리고 결과를 따로 저장해서 그림을 그린것이다.\n",
        "\n",
        "코드를 뒤죽 박죽 해놨다. 시간이 너무 없어서 마음의 여유가 없었나 보당 ㅜ"
      ],
      "metadata": {
        "id": "X-tbGmluzHJ3"
      }
    },
    {
      "cell_type": "code",
      "source": [
        "plt.figure(figsize=(10,8))\n",
        "x = [0,1,2,3,4,5,6]\n",
        "y = [0.4199, 0.2797, 0.2852,0.2939,0.2991,0.2942,0.2930]\n",
        "plt.xticks(x, labels=['resnet50+lstm', 'effi_b0+lstm', 'effi_b1+lstm', 'effi_b2+lstm', 'effi_b3+lstm', 'effi_b4+lstm', 'effi_b5+lstm'])\n",
        "plt.ylabel('train_loss')\n",
        "plt.xlabel('model')\n",
        "plt.title('Train loss by image classification model')\n",
        "plt.bar(x,y)\n"
      ],
      "metadata": {
        "id": "MuSd0i68Zsvm",
        "colab": {
          "base_uri": "https://localhost:8080/",
          "height": 531
        },
        "outputId": "f4684223-8412-403e-b44d-d19c1a0cef2c"
      },
      "execution_count": null,
      "outputs": [
        {
          "output_type": "execute_result",
          "data": {
            "text/plain": [
              "<BarContainer object of 7 artists>"
            ]
          },
          "metadata": {},
          "execution_count": 46
        },
        {
          "output_type": "display_data",
          "data": {
            "image/png": "[encoded data removed]",
            "text/plain": [
              "<Figure size 720x576 with 1 Axes>"
            ]
          },
          "metadata": {
            "needs_background": "light"
          }
        }
      ]
    },
    {
      "cell_type": "code",
      "source": [
        "plt.figure(figsize=(10,8))\n",
        "x = [0,1,2]\n",
        "y = [0.2797,0.2869,0.2845]\n",
        "plt.xticks(x, labels=['effi_b0+lstm','effi_b0+rnn','effi_b0+gru'])\n",
        "plt.ylabel('train_loss')\n",
        "plt.xlabel('model')\n",
        "plt.title('Train loss by image model')\n",
        "plt.bar(x,y)\n"
      ],
      "metadata": {
        "colab": {
          "base_uri": "https://localhost:8080/",
          "height": 531
        },
        "id": "JVgt_DIj0k2Q",
        "outputId": "cf9d8365-373f-42b4-b14d-bd58bc74b6ab"
      },
      "execution_count": null,
      "outputs": [
        {
          "output_type": "execute_result",
          "data": {
            "text/plain": [
              "<BarContainer object of 3 artists>"
            ]
          },
          "metadata": {},
          "execution_count": 47
        },
        {
          "output_type": "display_data",
          "data": {
            "image/png": "[encoded data removed]",
            "text/plain": [
              "<Figure size 720x576 with 1 Axes>"
            ]
          },
          "metadata": {
            "needs_background": "light"
          }
        }
      ]
    },
    {
      "cell_type": "markdown",
      "source": [
        ""
      ],
      "metadata": {
        "id": "Hh7xBNdSxPrf"
      }
    }
  ]
}